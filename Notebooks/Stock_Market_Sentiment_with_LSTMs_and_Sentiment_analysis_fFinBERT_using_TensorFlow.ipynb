{
  "cells": [
    {
      "cell_type": "markdown",
      "source": [
        "#Stock Market Prediction LSTM"
      ],
      "metadata": {
        "id": "tUGPyWDe0ZWk"
      }
    },
    {
      "cell_type": "code",
      "execution_count": 1,
      "metadata": {
        "colab": {
          "base_uri": "https://localhost:8080/"
        },
        "id": "NTrOI1lbTPUj",
        "outputId": "cb397390-8714-4f9e-a795-ddf0ba04cb70"
      },
      "outputs": [
        {
          "output_type": "stream",
          "name": "stdout",
          "text": [
            "Looking in indexes: https://pypi.org/simple, https://us-python.pkg.dev/colab-wheels/public/simple/\n",
            "Collecting transformers\n",
            "  Downloading transformers-4.29.2-py3-none-any.whl (7.1 MB)\n",
            "\u001b[2K     \u001b[90m━━━━━━━━━━━━━━━━━━━━━━━━━━━━━━━━━━━━━━━━\u001b[0m \u001b[32m7.1/7.1 MB\u001b[0m \u001b[31m56.9 MB/s\u001b[0m eta \u001b[36m0:00:00\u001b[0m\n",
            "\u001b[?25hRequirement already satisfied: filelock in /usr/local/lib/python3.10/dist-packages (from transformers) (3.12.0)\n",
            "Collecting huggingface-hub<1.0,>=0.14.1 (from transformers)\n",
            "  Downloading huggingface_hub-0.15.1-py3-none-any.whl (236 kB)\n",
            "\u001b[2K     \u001b[90m━━━━━━━━━━━━━━━━━━━━━━━━━━━━━━━━━━━━━━\u001b[0m \u001b[32m236.8/236.8 kB\u001b[0m \u001b[31m24.6 MB/s\u001b[0m eta \u001b[36m0:00:00\u001b[0m\n",
            "\u001b[?25hRequirement already satisfied: numpy>=1.17 in /usr/local/lib/python3.10/dist-packages (from transformers) (1.22.4)\n",
            "Requirement already satisfied: packaging>=20.0 in /usr/local/lib/python3.10/dist-packages (from transformers) (23.1)\n",
            "Requirement already satisfied: pyyaml>=5.1 in /usr/local/lib/python3.10/dist-packages (from transformers) (6.0)\n",
            "Requirement already satisfied: regex!=2019.12.17 in /usr/local/lib/python3.10/dist-packages (from transformers) (2022.10.31)\n",
            "Requirement already satisfied: requests in /usr/local/lib/python3.10/dist-packages (from transformers) (2.27.1)\n",
            "Collecting tokenizers!=0.11.3,<0.14,>=0.11.1 (from transformers)\n",
            "  Downloading tokenizers-0.13.3-cp310-cp310-manylinux_2_17_x86_64.manylinux2014_x86_64.whl (7.8 MB)\n",
            "\u001b[2K     \u001b[90m━━━━━━━━━━━━━━━━━━━━━━━━━━━━━━━━━━━━━━━━\u001b[0m \u001b[32m7.8/7.8 MB\u001b[0m \u001b[31m80.8 MB/s\u001b[0m eta \u001b[36m0:00:00\u001b[0m\n",
            "\u001b[?25hRequirement already satisfied: tqdm>=4.27 in /usr/local/lib/python3.10/dist-packages (from transformers) (4.65.0)\n",
            "Requirement already satisfied: fsspec in /usr/local/lib/python3.10/dist-packages (from huggingface-hub<1.0,>=0.14.1->transformers) (2023.4.0)\n",
            "Requirement already satisfied: typing-extensions>=3.7.4.3 in /usr/local/lib/python3.10/dist-packages (from huggingface-hub<1.0,>=0.14.1->transformers) (4.5.0)\n",
            "Requirement already satisfied: urllib3<1.27,>=1.21.1 in /usr/local/lib/python3.10/dist-packages (from requests->transformers) (1.26.15)\n",
            "Requirement already satisfied: certifi>=2017.4.17 in /usr/local/lib/python3.10/dist-packages (from requests->transformers) (2022.12.7)\n",
            "Requirement already satisfied: charset-normalizer~=2.0.0 in /usr/local/lib/python3.10/dist-packages (from requests->transformers) (2.0.12)\n",
            "Requirement already satisfied: idna<4,>=2.5 in /usr/local/lib/python3.10/dist-packages (from requests->transformers) (3.4)\n",
            "Installing collected packages: tokenizers, huggingface-hub, transformers\n",
            "Successfully installed huggingface-hub-0.15.1 tokenizers-0.13.3 transformers-4.29.2\n",
            "Looking in indexes: https://pypi.org/simple, https://us-python.pkg.dev/colab-wheels/public/simple/\n",
            "Collecting pynytimes\n",
            "  Downloading pynytimes-0.10.0-py3-none-any.whl (20 kB)\n",
            "Requirement already satisfied: requests<3.0.0,>=2.10.0 in /usr/local/lib/python3.10/dist-packages (from pynytimes) (2.27.1)\n",
            "Requirement already satisfied: urllib3 in /usr/local/lib/python3.10/dist-packages (from pynytimes) (1.26.15)\n",
            "Requirement already satisfied: certifi>=2017.4.17 in /usr/local/lib/python3.10/dist-packages (from requests<3.0.0,>=2.10.0->pynytimes) (2022.12.7)\n",
            "Requirement already satisfied: charset-normalizer~=2.0.0 in /usr/local/lib/python3.10/dist-packages (from requests<3.0.0,>=2.10.0->pynytimes) (2.0.12)\n",
            "Requirement already satisfied: idna<4,>=2.5 in /usr/local/lib/python3.10/dist-packages (from requests<3.0.0,>=2.10.0->pynytimes) (3.4)\n",
            "Installing collected packages: pynytimes\n",
            "Successfully installed pynytimes-0.10.0\n",
            "Looking in indexes: https://pypi.org/simple, https://us-python.pkg.dev/colab-wheels/public/simple/\n",
            "Collecting xformers\n",
            "  Downloading xformers-0.0.20-cp310-cp310-manylinux2014_x86_64.whl (109.1 MB)\n",
            "\u001b[2K     \u001b[90m━━━━━━━━━━━━━━━━━━━━━━━━━━━━━━━━━━━━━━━\u001b[0m \u001b[32m109.1/109.1 MB\u001b[0m \u001b[31m8.5 MB/s\u001b[0m eta \u001b[36m0:00:00\u001b[0m\n",
            "\u001b[?25hRequirement already satisfied: numpy in /usr/local/lib/python3.10/dist-packages (from xformers) (1.22.4)\n",
            "Collecting pyre-extensions==0.0.29 (from xformers)\n",
            "  Downloading pyre_extensions-0.0.29-py3-none-any.whl (12 kB)\n",
            "Requirement already satisfied: torch==2.0.1 in /usr/local/lib/python3.10/dist-packages (from xformers) (2.0.1+cu118)\n",
            "Collecting typing-inspect (from pyre-extensions==0.0.29->xformers)\n",
            "  Downloading typing_inspect-0.9.0-py3-none-any.whl (8.8 kB)\n",
            "Requirement already satisfied: typing-extensions in /usr/local/lib/python3.10/dist-packages (from pyre-extensions==0.0.29->xformers) (4.5.0)\n",
            "Requirement already satisfied: filelock in /usr/local/lib/python3.10/dist-packages (from torch==2.0.1->xformers) (3.12.0)\n",
            "Requirement already satisfied: sympy in /usr/local/lib/python3.10/dist-packages (from torch==2.0.1->xformers) (1.11.1)\n",
            "Requirement already satisfied: networkx in /usr/local/lib/python3.10/dist-packages (from torch==2.0.1->xformers) (3.1)\n",
            "Requirement already satisfied: jinja2 in /usr/local/lib/python3.10/dist-packages (from torch==2.0.1->xformers) (3.1.2)\n",
            "Requirement already satisfied: triton==2.0.0 in /usr/local/lib/python3.10/dist-packages (from torch==2.0.1->xformers) (2.0.0)\n",
            "Requirement already satisfied: cmake in /usr/local/lib/python3.10/dist-packages (from triton==2.0.0->torch==2.0.1->xformers) (3.25.2)\n",
            "Requirement already satisfied: lit in /usr/local/lib/python3.10/dist-packages (from triton==2.0.0->torch==2.0.1->xformers) (16.0.5)\n",
            "Requirement already satisfied: MarkupSafe>=2.0 in /usr/local/lib/python3.10/dist-packages (from jinja2->torch==2.0.1->xformers) (2.1.2)\n",
            "Requirement already satisfied: mpmath>=0.19 in /usr/local/lib/python3.10/dist-packages (from sympy->torch==2.0.1->xformers) (1.3.0)\n",
            "Collecting mypy-extensions>=0.3.0 (from typing-inspect->pyre-extensions==0.0.29->xformers)\n",
            "  Downloading mypy_extensions-1.0.0-py3-none-any.whl (4.7 kB)\n",
            "Installing collected packages: mypy-extensions, typing-inspect, pyre-extensions, xformers\n",
            "Successfully installed mypy-extensions-1.0.0 pyre-extensions-0.0.29 typing-inspect-0.9.0 xformers-0.0.20\n"
          ]
        }
      ],
      "source": [
        "!pip install transformers\n",
        "!pip install pynytimes\n",
        "!pip install xformers"
      ]
    },
    {
      "cell_type": "code",
      "source": [
        "# Importing the data from google drive\n",
        "from google.colab import drive\n",
        "drive.mount('/content/drive')"
      ],
      "metadata": {
        "colab": {
          "base_uri": "https://localhost:8080/"
        },
        "id": "_72dL3QY3MJ9",
        "outputId": "d23d4f32-e969-4a32-bb19-18c14a7cca04"
      },
      "execution_count": 2,
      "outputs": [
        {
          "output_type": "stream",
          "name": "stdout",
          "text": [
            "Mounted at /content/drive\n"
          ]
        }
      ]
    },
    {
      "cell_type": "code",
      "execution_count": 3,
      "metadata": {
        "id": "Syf4H4acTOaT"
      },
      "outputs": [],
      "source": [
        "from pynytimes import NYTAPI\n",
        "import datetime\n",
        "import pandas as pd\n",
        "import numpy as np\n",
        "import matplotlib.pyplot as plt"
      ]
    },
    {
      "cell_type": "code",
      "execution_count": 8,
      "metadata": {
        "id": "S-2SY0loppjB"
      },
      "outputs": [],
      "source": [
        "def get_news(year, month, day):\n",
        "    \"\"\"\n",
        "    get top 10 most relevent finance news headings on each day from NY times\n",
        "    \"\"\"\n",
        "    # API call to New York Timess with the key below\n",
        "    nyt = NYTAPI(\"GM4G4Ayt0m1ME6g3ulsBfYRKDx9bRj80\", parse_dates=True)\n",
        "    \n",
        "    list = []\n",
        "    articles = nyt.article_search(\n",
        "            results = 10,\n",
        "            dates = {\n",
        "                \"begin\": datetime.datetime(year, month, day),\n",
        "                \"end\": datetime.datetime(year, month, day)\n",
        "            },\n",
        "            options = {\n",
        "                \"sort\": \"relevance\",\n",
        "                \"news_desk\": [\n",
        "                    \"Business\", \"Business Day\", \"Entrepreneurs\", \"Financial\", \"Technology\"\n",
        "                ],\n",
        "                \"section_name\" : [\n",
        "                    \"Business\", \"Business Day\", \"Technology\"\n",
        "                ]\n",
        "            }\n",
        "        )\n",
        "    for i in range(len(articles)):\n",
        "        list.append(articles[i]['abstract'].replace(',', \"\"))\n",
        "    return list\n",
        "\n",
        "df = pd.DataFrame()"
      ]
    },
    {
      "cell_type": "code",
      "execution_count": null,
      "metadata": {
        "id": "5l1XgBUwp5Hu"
      },
      "outputs": [],
      "source": [
        "def generate_news_file():\n",
        "    \"\"\"\n",
        "    store news headings everyday of in csv\n",
        "    \"\"\"\n",
        "    start = '2021-01-01'\n",
        "    end = '2022-01-01'\n",
        "    mydates = pd.date_range(start, end)\n",
        "    dates = []\n",
        "    for i in range(len(mydates)):\n",
        "        dates.append(mydates[i].strftime(\"%Y-%m-%d\"))\n",
        "    matrix = np.zeros((len(dates) + 1, 11), dtype=object)  \n",
        "    matrix[0, 0] = \"Date\"\n",
        "\n",
        "    for i in range(10):\n",
        "        matrix[0, i + 1] = f\"News {i + 1}\"\n",
        "    for i in range(len(dates)):\n",
        "        matrix[i + 1, 0] = dates[i]\n",
        "        y, m, d = dates[i].split(\"-\")\n",
        "        news_list = get_news(int(y), int(m), int(d))\n",
        "        for j in range(len(news_list)):\n",
        "            matrix[i + 1, j + 1] = news_list[j]\n",
        "    df = pd.DataFrame(matrix)\n",
        "    df.to_csv(\"news.csv\", index = False)\n",
        "\n",
        "\n",
        "generate_news_file()"
      ]
    },
    {
      "cell_type": "markdown",
      "metadata": {
        "id": "d27EANVdqSql"
      },
      "source": [
        "##Downloading the Stock data from Yahoo finance"
      ]
    },
    {
      "cell_type": "code",
      "execution_count": 9,
      "metadata": {
        "id": "G_yewvmzp8ug"
      },
      "outputs": [],
      "source": [
        "def download_stock_data(ticker, start, end):\n",
        "    \"\"\"\n",
        "    download stock price data from Yahoo Finance\n",
        "    \"\"\"\n",
        "    import yfinance as yf\n",
        "    stock_data = yf.download(ticker, start, end)\n",
        "    df = pd.DataFrame(stock_data)\n",
        "    df.to_csv(\"news.csv\")"
      ]
    },
    {
      "cell_type": "code",
      "execution_count": 10,
      "metadata": {
        "colab": {
          "base_uri": "https://localhost:8080/"
        },
        "id": "4trboEORqdlf",
        "outputId": "64d621e7-f001-45b4-8454-05e881d9627b"
      },
      "outputs": [
        {
          "output_type": "stream",
          "name": "stdout",
          "text": [
            "\r[*********************100%***********************]  1 of 1 completed\n"
          ]
        }
      ],
      "source": [
        "# Downloading the stock data from yahoo finance \n",
        "download_stock_data(\"NDX\", \"2016-06-06\", \"2021-06-04\")"
      ]
    },
    {
      "cell_type": "markdown",
      "metadata": {
        "id": "Gwi6KBkLvovU"
      },
      "source": [
        "##Merging the data and news together"
      ]
    },
    {
      "cell_type": "code",
      "execution_count": 4,
      "metadata": {
        "colab": {
          "base_uri": "https://localhost:8080/"
        },
        "id": "7rgl5Zq-Bfhb",
        "outputId": "bb90eaee-b189-4f56-aac7-888395c0881b"
      },
      "outputs": [
        {
          "output_type": "stream",
          "name": "stderr",
          "text": [
            "<ipython-input-4-0cf38790f7fc>:6: SettingWithCopyWarning: \n",
            "A value is trying to be set on a copy of a slice from a DataFrame\n",
            "\n",
            "See the caveats in the documentation: https://pandas.pydata.org/pandas-docs/stable/user_guide/indexing.html#returning-a-view-versus-a-copy\n",
            "  stock_df['Date'][i] = date\n"
          ]
        }
      ],
      "source": [
        "news_df = pd.read_csv(\"/content/drive/MyDrive/Stock data/news.csv\")\n",
        "stock_df = pd.read_csv(\"/content/drive/MyDrive/Stock data/stock_price.csv\")\n",
        "\n",
        "for i in range(len(stock_df)):\n",
        "    date = stock_df['Date'][i][:10]\n",
        "    stock_df['Date'][i] = date\n",
        "\n",
        "news_df = news_df[news_df['Date'].isin(stock_df['Date'].tolist())]\n",
        "\n",
        "news_df.to_csv(\"news_data.csv\", index=False)"
      ]
    },
    {
      "cell_type": "markdown",
      "source": [
        "##Calculating the finBERT score for sentiment analysis\n",
        "finBERT_sentiment_score is a sentiment analysis tool that uses a pre-trained BERT model to predict the sentiment of a given piece of text. The model is trained on a large corpus of financial news and analyst reports, and it can be used to identify positive, negative, and neutral sentiment in financial text. The tool is available as a Python library, and it can be used to analyze text from a variety of sources, including news articles, social media posts, and financial reports.\n",
        "\n",
        "Here are some examples of how finBERT_sentiment_score can be used:\n",
        "- To identify positive and negative sentiment in financial news articles.\n",
        "- To track the sentiment of a company's stock over time.\n",
        "- To identify sentiment in social media posts about a particular financial topic.\n",
        "- To analyze the sentiment of analyst reports.\n",
        "\n",
        "finBERT_sentiment_score is a powerful tool that can be used to gain insights into the sentiment of financial text. It can be used by investors, traders, and analysts to make better decisions about their investments."
      ],
      "metadata": {
        "id": "LGlfBKtRKYEz"
      }
    },
    {
      "cell_type": "code",
      "execution_count": 5,
      "metadata": {
        "id": "mckb7iu7z87m"
      },
      "outputs": [],
      "source": [
        "def FinBERT_sentiment_score(heading):\n",
        "    \"\"\"\n",
        "    compute sentiment score using pretrained FinBERT on -1 to 1 scale. -1 being negative and 1 being positive\n",
        "    \"\"\"\n",
        "    from transformers import AutoTokenizer, AutoModelForSequenceClassification\n",
        "    from transformers import pipeline\n",
        "    tokenizer = AutoTokenizer.from_pretrained('ProsusAI/finbert')\n",
        "    finbert = AutoModelForSequenceClassification.from_pretrained('ProsusAI/finbert')\n",
        "    nlp = pipeline(\"sentiment-analysis\", model=finbert, tokenizer=tokenizer)\n",
        "    result = nlp(heading)\n",
        "    if result[0]['label'] == \"positive\":\n",
        "        return result[0]['score']\n",
        "    elif result[0]['label'] == \"neutral\":\n",
        "        return 0\n",
        "    else:\n",
        "        return (0 - result[0]['score'])"
      ]
    },
    {
      "cell_type": "markdown",
      "source": [
        "##Calculating the VADER score for sentiment analysis\n",
        "VADER_sentiment_score is a lexicon and rule-based sentiment analysis tool that is specifically attuned to sentiments expressed in social media, and works well on texts from other domains. It is a compound score computed by summing the valence scores of each word in the lexicon, adjusted according to the rules, and then normalized to be between -1 (most extreme negative) and +1 (most extreme positive).\n",
        "\n",
        "Here are some examples of how VADER_sentiment_score works:\n",
        "- \"I love this movie!\" would have a VADER_sentiment_score of +1.\n",
        "- \"I hated this movie!\" would have a VADER_sentiment_score of -1.\n",
        "- \"The movie was okay.\" would have a VADER_sentiment_score of 0.\n",
        "\n",
        "VADER_sentiment_score can be used to measure the sentiment of text in a variety of applications, such as social media monitoring, customer sentiment analysis, and product reviews."
      ],
      "metadata": {
        "id": "iRM4A8maLU4s"
      }
    },
    {
      "cell_type": "code",
      "execution_count": 6,
      "metadata": {
        "id": "FYB2UZaozoCo"
      },
      "outputs": [],
      "source": [
        "def VADER_sentiment_score(heading):\n",
        "    \"\"\"\n",
        "    compute sentiment score using pretrained VADER on -1 to 1 scale. -1 being negative and 1 being positive\n",
        "    \"\"\"\n",
        "    import nltk\n",
        "    from nltk.sentiment.vader import SentimentIntensityAnalyzer\n",
        "    nltk.download('vader_lexicon')\n",
        "    from nltk.sentiment.vader import SentimentIntensityAnalyzer\n",
        "    analyzer = SentimentIntensityAnalyzer()\n",
        "    result = analyzer.polarity_scores(heading)\n",
        "    if result['pos'] == max(result['neg'], result['neu'], result['pos']):\n",
        "        return result['pos']\n",
        "    if result['neg'] == max(result['neg'], result['neu'], result['pos']):\n",
        "        return (0 - result['neg'])\n",
        "    else:\n",
        "        return 0"
      ]
    },
    {
      "cell_type": "code",
      "execution_count": 7,
      "metadata": {
        "id": "0rfpJI9e0DbD"
      },
      "outputs": [],
      "source": [
        "news_df = pd.read_csv(\"news_data.csv\")"
      ]
    },
    {
      "cell_type": "code",
      "execution_count": 8,
      "metadata": {
        "id": "JKFor1Vv9nN6"
      },
      "outputs": [],
      "source": [
        "BERT_sentiment = []"
      ]
    },
    {
      "cell_type": "code",
      "execution_count": 17,
      "metadata": {
        "id": "M1n1LKtj0H9z",
        "colab": {
          "base_uri": "https://localhost:8080/",
          "height": 177,
          "referenced_widgets": [
            "ddf251b824e04faebb215b70bb37c62b",
            "dbe69b6476ce49139106a0d9dafa3fe1",
            "7fe4fbbf84bc47859a499c5fce4b6f78",
            "bdc2a1ff07c44f72850021fdd7442bc2",
            "b36f91ee89de457ebe6b5b4bcf38b882",
            "3313c11e115a4cfeb173cc1f1f45fab2",
            "e6f47391785f46228a1df38f311a86d4",
            "15688fd554a041d19199401c8cb93147",
            "387cee8e09d441b2b3e7f39745370ce8",
            "16cf50b1d95841d4a471aa4f8e3b8652",
            "ba163970d95b493a9ae3a106b406b343",
            "7081f2e691354765b8912b2674efd1f8",
            "25d48f2aaf994a3c8c4989313a74048b",
            "97439036080a4d629f5c118a04852e4e",
            "81ad457b7513470dbf92faac8494907f",
            "07b124a7ac6a418ea76e65a192e8778b",
            "0d14603d387249fc92fb5af7916edcf1",
            "b364ccdc9cd04b2da6539d64da8e3729",
            "793737be017e44d8beac5579f1ec2834",
            "db7a7020011a48a894215514f008f467",
            "7e08ac9374954705937b049d73105cb8",
            "abd954880c1e423fa050a82b8e8c31b7",
            "e3089b6a74fa40a59110c5a5b194aac4",
            "68a2ee44dae648269ea518e086f7f4cd",
            "8e6131c36b6441d4853e945adefee661",
            "31c033f85d5a4815a1b129b7e4658794",
            "001e4ce206534584bf900f1dd4423f09",
            "7bece945925542d68a3adc96fa2028aa",
            "9331af09fb9c424691125cd19a7b794f",
            "9e9bef9080c5441b973498c8c8b35487",
            "c10fc2d875d240768e4faaa166444c1d",
            "c8ca1fa4b776446982d6b338971c5327",
            "9f2d830fddc94025a494f8bfda9b2e77",
            "d20cf8e1e87f4155b82f9f3f64d9b141",
            "0ce7a6b27e474632a159dc7ee4569c60",
            "63fb60cfc3a141e1a0e9714a610f78d5",
            "d7c3bae6755549d488b9d95a8eebc3ba",
            "de8c66a9d35c44789b9303c9b4eb31b8",
            "ce22665d19b44df69e2627fc9c9f084e",
            "ff3fcfc5ade04ab1873580608fe39c94",
            "3046e9fb61aa4b35b303b0fa2322b358",
            "4934634a06fa4d8a8209405d62a51c2a",
            "ec338dd1aa5e45b98feb3f0eb339417a",
            "8544cca537514fb68c1aa8f463da026c",
            "4b205b61627140d180ddabd0c22f2e24",
            "7a34a6e3296a43f9b92b3d639a66d1c2",
            "468bb55b254446df91410b63d33e5d30",
            "1cf264da3d25436aba24cc2f56024e45",
            "af348df5587c4420b8b626dbffd49649",
            "ccfdb4c090f842feba580f504683981c",
            "968d28d6a2c64d58ad5525b68a645fa7",
            "dbf329f708ec40aca14eccdc1b7afda4",
            "e218fa35b1ac446d8c4e0e9d4388b449",
            "1b31aad5b9694ddf91ea9be97f751091",
            "e173872e3a3842cda77f90a676c9ae83"
          ]
        },
        "outputId": "3b3c2a81-7def-41cc-fc79-b680f5664e62"
      },
      "outputs": [
        {
          "output_type": "display_data",
          "data": {
            "text/plain": [
              "Downloading (…)okenizer_config.json:   0%|          | 0.00/252 [00:00<?, ?B/s]"
            ],
            "application/vnd.jupyter.widget-view+json": {
              "version_major": 2,
              "version_minor": 0,
              "model_id": "ddf251b824e04faebb215b70bb37c62b"
            }
          },
          "metadata": {}
        },
        {
          "output_type": "display_data",
          "data": {
            "text/plain": [
              "Downloading (…)lve/main/config.json:   0%|          | 0.00/758 [00:00<?, ?B/s]"
            ],
            "application/vnd.jupyter.widget-view+json": {
              "version_major": 2,
              "version_minor": 0,
              "model_id": "7081f2e691354765b8912b2674efd1f8"
            }
          },
          "metadata": {}
        },
        {
          "output_type": "display_data",
          "data": {
            "text/plain": [
              "Downloading (…)solve/main/vocab.txt:   0%|          | 0.00/232k [00:00<?, ?B/s]"
            ],
            "application/vnd.jupyter.widget-view+json": {
              "version_major": 2,
              "version_minor": 0,
              "model_id": "e3089b6a74fa40a59110c5a5b194aac4"
            }
          },
          "metadata": {}
        },
        {
          "output_type": "display_data",
          "data": {
            "text/plain": [
              "Downloading (…)cial_tokens_map.json:   0%|          | 0.00/112 [00:00<?, ?B/s]"
            ],
            "application/vnd.jupyter.widget-view+json": {
              "version_major": 2,
              "version_minor": 0,
              "model_id": "d20cf8e1e87f4155b82f9f3f64d9b141"
            }
          },
          "metadata": {}
        },
        {
          "output_type": "display_data",
          "data": {
            "text/plain": [
              "Downloading pytorch_model.bin:   0%|          | 0.00/438M [00:00<?, ?B/s]"
            ],
            "application/vnd.jupyter.widget-view+json": {
              "version_major": 2,
              "version_minor": 0,
              "model_id": "4b205b61627140d180ddabd0c22f2e24"
            }
          },
          "metadata": {}
        }
      ],
      "source": [
        "# Calculating finBERT score for each day and Store in BERT_sentiment\n",
        "for i in range(len(news_df)):\n",
        "    news_list = news_df.iloc[i, 1:].tolist()\n",
        "    news_list = [str(i).strip() for i in news_list if str(i).strip() != '' and str(i).strip().lower() != 'nan' and str(i).strip() != '0']\n",
        "    score_BERT = FinBERT_sentiment_score(news_list)\n",
        "    BERT_sentiment.append(score_BERT)\n"
      ]
    },
    {
      "cell_type": "code",
      "execution_count": 18,
      "metadata": {
        "id": "Ad4Rxcm00JoP"
      },
      "outputs": [],
      "source": [
        " news_df['FinBERT score'] = BERT_sentiment"
      ]
    },
    {
      "cell_type": "code",
      "execution_count": 19,
      "metadata": {
        "id": "O3cUtsBc0o56"
      },
      "outputs": [],
      "source": [
        "news_df.to_csv(\"sentiment.csv\")"
      ]
    },
    {
      "cell_type": "code",
      "execution_count": 9,
      "metadata": {
        "id": "tH4Gc1zO0oyt"
      },
      "outputs": [],
      "source": [
        "from sklearn.preprocessing import MinMaxScaler\n",
        "from sklearn.metrics import mean_absolute_error\n",
        "from sklearn.metrics import mean_absolute_percentage_error\n",
        "import tensorflow as tf\n",
        "tf.compat.v1.enable_eager_execution()"
      ]
    },
    {
      "cell_type": "markdown",
      "source": [
        "##Training the LSTM model"
      ],
      "metadata": {
        "id": "r7bG-fJeGJrJ"
      }
    },
    {
      "cell_type": "code",
      "execution_count": 10,
      "metadata": {
        "id": "Y1S8R_j30otQ"
      },
      "outputs": [],
      "source": [
        "# hyperparameters\n",
        "split = (0.85);\n",
        "sequence_length = 30;\n",
        "epochs = 30\n",
        "learning_rate = 0.02"
      ]
    },
    {
      "cell_type": "code",
      "execution_count": 11,
      "metadata": {
        "id": "zlpi4PsKKb0v"
      },
      "outputs": [],
      "source": [
        "# loading stock price data\n",
        "stock_data = pd.read_csv(\"/content/drive/MyDrive/Stock data/stock_price.csv\")\n",
        "column = ['Close']"
      ]
    },
    {
      "cell_type": "code",
      "execution_count": 12,
      "metadata": {
        "id": "HDAMM_SbKepS"
      },
      "outputs": [],
      "source": [
        "len_stock_data = stock_data.shape[0]"
      ]
    },
    {
      "cell_type": "code",
      "execution_count": 13,
      "metadata": {
        "id": "zNUUrKEzKgbW"
      },
      "outputs": [],
      "source": [
        "# splitting data to train and test\n",
        "train_examples = int(len_stock_data * split)\n",
        "train = stock_data.get(column).values[:train_examples]\n",
        "test = stock_data.get(column).values[train_examples:]\n",
        "len_train = train.shape[0]\n",
        "len_test = test.shape[0]"
      ]
    },
    {
      "cell_type": "code",
      "execution_count": 14,
      "metadata": {
        "id": "RPnY8ii4KiEj"
      },
      "outputs": [],
      "source": [
        "# normalizing data\n",
        "scaler = MinMaxScaler()\n",
        "train, test = scaler.fit_transform(train), scaler.fit_transform(test)"
      ]
    },
    {
      "cell_type": "code",
      "execution_count": 15,
      "metadata": {
        "id": "dZlIlmJHKkU6"
      },
      "outputs": [],
      "source": [
        "# splitting training data to x and y\n",
        "X_train = []\n",
        "for i in range(len_train - sequence_length):\n",
        "    X_train.append(train[i : i + sequence_length])\n",
        "X_train = np.array(X_train).astype(float)\n",
        "y_train = np.array(train[sequence_length:]).astype(float)\n",
        "\n",
        "# splitting testing data to x and y\n",
        "X_test = []\n",
        "for i in range(len_test - sequence_length):\n",
        "    X_test.append(test[i : i + sequence_length])\n",
        "X_test = np.array(X_test).astype(float)\n",
        "y_test = np.array(test[sequence_length:]).astype(float)"
      ]
    },
    {
      "cell_type": "code",
      "source": [
        "shape = (X_train.shape[1], 1)\n",
        "print(shape)"
      ],
      "metadata": {
        "colab": {
          "base_uri": "https://localhost:8080/"
        },
        "id": "nmPS6gTr2oTJ",
        "outputId": "11ec145f-81b9-4ae9-9b6d-9134d44df8c5"
      },
      "execution_count": 16,
      "outputs": [
        {
          "output_type": "stream",
          "name": "stdout",
          "text": [
            "(30, 1)\n"
          ]
        }
      ]
    },
    {
      "cell_type": "code",
      "execution_count": 17,
      "metadata": {
        "id": "jsRxcWbgKm8-"
      },
      "outputs": [],
      "source": [
        "def model_create():\n",
        "    tf.random.set_seed(1234)\n",
        "    model = tf.keras.models.Sequential(\n",
        "        [\n",
        "            tf.keras.Input(shape = (X_train.shape[1], 1)),\n",
        "            tf.keras.layers.LSTM(units = 50, activation = \"tanh\", return_sequences = True),\n",
        "            tf.keras.layers.Dropout(0.15),\n",
        "            tf.keras.layers.LSTM(units = 30, activation = \"tanh\", return_sequences = True),\n",
        "            tf.keras.layers.Dropout(0.05),\n",
        "            tf.keras.layers.LSTM(units = 20, activation = \"tanh\", return_sequences = False),\n",
        "            tf.keras.layers.Dropout(0.01),\n",
        "            tf.keras.layers.Dense(units = 1, activation = \"linear\")\n",
        "        ]\n",
        "    )\n",
        "    model.compile(\n",
        "        loss = tf.keras.losses.mean_squared_error,\n",
        "        optimizer = tf.keras.optimizers.Adam(learning_rate = learning_rate)\n",
        "    )\n",
        "\n",
        "\n",
        "    model.fit(\n",
        "        X_train, y_train,\n",
        "        epochs = epochs\n",
        "    )\n",
        "    model.save(\"LSTM_model.h5\")\n",
        "    return model"
      ]
    },
    {
      "cell_type": "code",
      "execution_count": 18,
      "metadata": {
        "id": "nPdDE24UKqxg"
      },
      "outputs": [],
      "source": [
        "# inverting normaliztion\n",
        "y_test = scaler.inverse_transform(y_test)"
      ]
    },
    {
      "cell_type": "code",
      "execution_count": 19,
      "metadata": {
        "id": "G5cvZsSiK0Ut"
      },
      "outputs": [],
      "source": [
        "def predict(model):\n",
        "    predictions = model.predict(X_test)\n",
        "    predictions = scaler.inverse_transform(predictions.reshape(-1,1)).reshape(-1,1)\n",
        "    return predictions"
      ]
    },
    {
      "cell_type": "code",
      "execution_count": 20,
      "metadata": {
        "id": "DAZ9RWQdK2so"
      },
      "outputs": [],
      "source": [
        "# evaluation\n",
        "def evaluate(predictions):\n",
        "    mae = mean_absolute_error(predictions, y_test)\n",
        "    mape = mean_absolute_percentage_error(predictions, y_test)\n",
        "    return mae, mape, (1 - mape)"
      ]
    },
    {
      "cell_type": "code",
      "execution_count": 21,
      "metadata": {
        "id": "gWTEPxO1K4WK"
      },
      "outputs": [],
      "source": [
        "def run_model(n):\n",
        "    total_mae = total_mape = total_acc = 0\n",
        "    for i in range(n):\n",
        "        model = model_create()\n",
        "        predictions = predict(model)\n",
        "        mae, mape, acc = evaluate(predictions)\n",
        "        total_mae += mae\n",
        "        total_mape += mape \n",
        "        total_acc += acc \n",
        "    return (total_mae / n), (total_mape / n), (total_acc / n),predictions.tolist()"
      ]
    },
    {
      "cell_type": "code",
      "execution_count": 22,
      "metadata": {
        "colab": {
          "base_uri": "https://localhost:8080/"
        },
        "id": "cer-ksWgc-9e",
        "outputId": "b68d0ca2-7d52-4756-e525-c41c23db778c"
      },
      "outputs": [
        {
          "output_type": "stream",
          "name": "stdout",
          "text": [
            "Epoch 1/30\n",
            "13/13 [==============================] - 10s 48ms/step - loss: 0.2383\n",
            "Epoch 2/30\n",
            "13/13 [==============================] - 1s 44ms/step - loss: 0.0152\n",
            "Epoch 3/30\n",
            "13/13 [==============================] - 1s 49ms/step - loss: 0.0075\n",
            "Epoch 4/30\n",
            "13/13 [==============================] - 1s 45ms/step - loss: 0.0070\n",
            "Epoch 5/30\n",
            "13/13 [==============================] - 1s 45ms/step - loss: 0.0056\n",
            "Epoch 6/30\n",
            "13/13 [==============================] - 1s 50ms/step - loss: 0.0058\n",
            "Epoch 7/30\n",
            "13/13 [==============================] - 1s 47ms/step - loss: 0.0063\n",
            "Epoch 8/30\n",
            "13/13 [==============================] - 1s 48ms/step - loss: 0.0060\n",
            "Epoch 9/30\n",
            "13/13 [==============================] - 1s 48ms/step - loss: 0.0050\n",
            "Epoch 10/30\n",
            "13/13 [==============================] - 1s 45ms/step - loss: 0.0047\n",
            "Epoch 11/30\n",
            "13/13 [==============================] - 1s 48ms/step - loss: 0.0045\n",
            "Epoch 12/30\n",
            "13/13 [==============================] - 1s 46ms/step - loss: 0.0044\n",
            "Epoch 13/30\n",
            "13/13 [==============================] - 1s 45ms/step - loss: 0.0050\n",
            "Epoch 14/30\n",
            "13/13 [==============================] - 1s 46ms/step - loss: 0.0041\n",
            "Epoch 15/30\n",
            "13/13 [==============================] - 1s 46ms/step - loss: 0.0044\n",
            "Epoch 16/30\n",
            "13/13 [==============================] - 1s 51ms/step - loss: 0.0040\n",
            "Epoch 17/30\n",
            "13/13 [==============================] - 1s 76ms/step - loss: 0.0035\n",
            "Epoch 18/30\n",
            "13/13 [==============================] - 1s 79ms/step - loss: 0.0041\n",
            "Epoch 19/30\n",
            "13/13 [==============================] - 1s 83ms/step - loss: 0.0044\n",
            "Epoch 20/30\n",
            "13/13 [==============================] - 1s 81ms/step - loss: 0.0031\n",
            "Epoch 21/30\n",
            "13/13 [==============================] - 1s 76ms/step - loss: 0.0032\n",
            "Epoch 22/30\n",
            "13/13 [==============================] - 1s 77ms/step - loss: 0.0035\n",
            "Epoch 23/30\n",
            "13/13 [==============================] - 1s 49ms/step - loss: 0.0035\n",
            "Epoch 24/30\n",
            "13/13 [==============================] - 1s 46ms/step - loss: 0.0036\n",
            "Epoch 25/30\n",
            "13/13 [==============================] - 1s 46ms/step - loss: 0.0037\n",
            "Epoch 26/30\n",
            "13/13 [==============================] - 1s 48ms/step - loss: 0.0032\n",
            "Epoch 27/30\n",
            "13/13 [==============================] - 1s 47ms/step - loss: 0.0031\n",
            "Epoch 28/30\n",
            "13/13 [==============================] - 1s 48ms/step - loss: 0.0030\n",
            "Epoch 29/30\n",
            "13/13 [==============================] - 1s 46ms/step - loss: 0.0030\n",
            "Epoch 30/30\n",
            "13/13 [==============================] - 1s 45ms/step - loss: 0.0032\n",
            "2/2 [==============================] - 2s 27ms/step\n"
          ]
        }
      ],
      "source": [
        "mae, mape, acc, preds = run_model(1)"
      ]
    },
    {
      "cell_type": "code",
      "execution_count": 23,
      "metadata": {
        "colab": {
          "base_uri": "https://localhost:8080/"
        },
        "id": "ncYI4sYbK-gy",
        "outputId": "4afbeae0-0e57-4126-8db9-594956a45c39"
      },
      "outputs": [
        {
          "output_type": "stream",
          "name": "stdout",
          "text": [
            "Mean Absolute Error = 243.7414232336958\n",
            "Mean Absolute Percentage Error = 0.019473845783840475%\n",
            "Accuracy = 0.9805261542161595\n"
          ]
        }
      ],
      "source": [
        "print(f\"Mean Absolute Error = {mae}\")\n",
        "print(f\"Mean Absolute Percentage Error = {mape}%\")\n",
        "print(f\"Accuracy = {acc}\")"
      ]
    },
    {
      "cell_type": "code",
      "execution_count": 24,
      "metadata": {
        "colab": {
          "base_uri": "https://localhost:8080/",
          "height": 718
        },
        "id": "S38MQyR-RVfD",
        "outputId": "8d650ced-20e6-43bc-8bbc-e97a7f4f795e"
      },
      "outputs": [
        {
          "output_type": "display_data",
          "data": {
            "text/plain": [
              "<Figure size 1200x800 with 1 Axes>"
            ],
            "image/png": "[encoded data removed]"
          },
          "metadata": {}
        }
      ],
      "source": [
        "real = plt.plot(y_test, label='Actual Price')\n",
        "pred = plt.plot(preds, label='Predicted Price')\n",
        "\n",
        "plt.gcf().set_size_inches(12, 8, forward=True)\n",
        "plt.title('Plot of real price and predicted price against number of days')\n",
        "plt.xlabel('Number of days')\n",
        "plt.ylabel('Close Price($)')\n",
        "\n",
        "plt.legend(['Actual Price', 'Predicted Price'])\n",
        "plt.show()    "
      ]
    },
    {
      "cell_type": "markdown",
      "metadata": {
        "id": "hPiwUOWNZy89"
      },
      "source": [
        "#Stock Market Prediction LSTM + Sentiment Analysis"
      ]
    },
    {
      "cell_type": "code",
      "execution_count": 41,
      "metadata": {
        "id": "SlpZ3aElTLCU"
      },
      "outputs": [],
      "source": [
        "split = (0.85);\n",
        "sequence_length = 30;\n",
        "epochs = 30\n",
        "learning_rate = 0.02"
      ]
    },
    {
      "cell_type": "code",
      "execution_count": 42,
      "metadata": {
        "id": "3r4h008jZ69X"
      },
      "outputs": [],
      "source": [
        "# loading stock price and news data\n",
        "stock_data = pd.read_csv(\"/content/drive/MyDrive/Stock data/stock_price.csv\")\n",
        "news_data = pd.read_csv(\"sentiment.csv\")\n",
        "stock_column = ['Close']\n",
        "news_column = ['FinBERT score']"
      ]
    },
    {
      "cell_type": "code",
      "execution_count": 43,
      "metadata": {
        "id": "pvJDTVguaJYc"
      },
      "outputs": [],
      "source": [
        "len_stock_data = stock_data.shape[0]"
      ]
    },
    {
      "cell_type": "code",
      "execution_count": 44,
      "metadata": {
        "id": "vhNZlq2qaLOv"
      },
      "outputs": [],
      "source": [
        "# splitting data to train and test\n",
        "train_examples = int(len_stock_data * split)\n",
        "train = stock_data.get(stock_column).values[:train_examples]\n",
        "train_sentiment = news_data.get(news_column).values[:train_examples]\n",
        "test = stock_data.get(stock_column).values[train_examples:]\n",
        "test_sentiment = news_data.get(news_column).values[train_examples:]\n",
        "len_train = train.shape[0]\n",
        "len_test = test.shape[0]\n",
        "len_train_sentiment = train_sentiment.shape[0]\n",
        "len_test_sentiment = test_sentiment.shape[0]"
      ]
    },
    {
      "cell_type": "code",
      "execution_count": 45,
      "metadata": {
        "id": "jYX5iPA5aZmx"
      },
      "outputs": [],
      "source": [
        "# normalizing data\n",
        "scaler = MinMaxScaler()\n",
        "train, test = scaler.fit_transform(train), scaler.fit_transform(test)"
      ]
    },
    {
      "cell_type": "code",
      "execution_count": 46,
      "metadata": {
        "id": "m-HOHVrmabna"
      },
      "outputs": [],
      "source": [
        "# splitting training data to x and y\n",
        "X_train = []\n",
        "for i in range(len_train - sequence_length):\n",
        "    X_train.append(train[i : i + sequence_length])\n",
        "len_X_train = len(X_train)\n",
        "y_train = np.array(train[sequence_length:]).astype(float)"
      ]
    },
    {
      "cell_type": "code",
      "execution_count": 47,
      "metadata": {
        "id": "7enf4Pxyaff3"
      },
      "outputs": [],
      "source": [
        "# splitting testing data to x and y\n",
        "X_test = []\n",
        "for i in range(len_test - sequence_length):\n",
        "    X_test.append(test[i : i + sequence_length])\n",
        "len_X_test = len(X_test)\n",
        "y_test = np.array(test[sequence_length:]).astype(float)"
      ]
    },
    {
      "cell_type": "code",
      "execution_count": 48,
      "metadata": {
        "id": "g8DIKye9ahVj"
      },
      "outputs": [],
      "source": [
        "# adding news sentiment to train and test\n",
        "for i in range(len_X_train):\n",
        "    X_train[i] = X_train[i].tolist()\n",
        "    X_train[i].append(train_sentiment[sequence_length + i].tolist())\n",
        "X_train = np.array(X_train).astype(float)\n",
        "\n",
        "for i in range(len_X_test):\n",
        "    X_test[i] = X_test[i].tolist()\n",
        "    X_test[i].append(test_sentiment[sequence_length + i].tolist())\n",
        "X_test = np.array(X_test).astype(float)"
      ]
    },
    {
      "cell_type": "code",
      "execution_count": 49,
      "metadata": {
        "id": "OrZrvBzRakaK"
      },
      "outputs": [],
      "source": [
        "def model_create():\n",
        "    tf.random.set_seed(1234)\n",
        "    model = tf.keras.models.Sequential(\n",
        "        [\n",
        "            tf.keras.Input(shape = (X_train.shape[1], 1)),\n",
        "            tf.keras.layers.LSTM(units = 70, activation = \"tanh\", return_sequences = True),\n",
        "            tf.keras.layers.LSTM(units = 30, activation = \"tanh\", return_sequences = True),\n",
        "            tf.keras.layers.LSTM(units = 10, activation = \"tanh\", return_sequences = False),\n",
        "            tf.keras.layers.Dense(units = 1, activation = \"linear\")\n",
        "        ]\n",
        "    )\n",
        "\n",
        "    model.compile(\n",
        "        loss = tf.keras.losses.mean_squared_error,\n",
        "        optimizer = tf.keras.optimizers.Adam(learning_rate = learning_rate)\n",
        "    )\n",
        "\n",
        "    model.fit(\n",
        "        X_train, y_train,\n",
        "        epochs = epochs\n",
        "    )\n",
        "\n",
        "    model.save('LSTM_sentiment.h5')\n",
        "    \n",
        "    return model"
      ]
    },
    {
      "cell_type": "code",
      "execution_count": 50,
      "metadata": {
        "id": "s4pfIEtyanCW"
      },
      "outputs": [],
      "source": [
        "# inverting normaliztion\n",
        "y_test = scaler.inverse_transform(y_test)"
      ]
    },
    {
      "cell_type": "code",
      "execution_count": 51,
      "metadata": {
        "id": "B8fgvs4Mao38"
      },
      "outputs": [],
      "source": [
        "# prediction on test set\n",
        "def predict(model):\n",
        "    predictions = model.predict(X_test)\n",
        "    predictions = scaler.inverse_transform(predictions.reshape(-1,1)).reshape(-1,1)\n",
        "    return predictions"
      ]
    },
    {
      "cell_type": "code",
      "execution_count": 52,
      "metadata": {
        "id": "3-i4SY1CarGE"
      },
      "outputs": [],
      "source": [
        "# evaluation\n",
        "def evaluate(predictions):\n",
        "    mae = mean_absolute_error(predictions, y_test)\n",
        "    mape = mean_absolute_percentage_error(predictions, y_test)\n",
        "    return mae, mape, (1 - mape)"
      ]
    },
    {
      "cell_type": "code",
      "execution_count": 53,
      "metadata": {
        "id": "F8eDL8_Gasu4"
      },
      "outputs": [],
      "source": [
        "# trial runs\n",
        "def run_model(n):\n",
        "    total_mae = total_mape = total_acc = 0\n",
        "    for i in range(n):\n",
        "        model = model_create()\n",
        "        predictions = predict(model)\n",
        "        mae, mape, acc = evaluate(predictions)\n",
        "        total_mae += mae\n",
        "        total_mape += mape \n",
        "        total_acc += acc \n",
        "    return (total_mae / n), (total_mape / n), (total_acc / n),predictions.tolist()"
      ]
    },
    {
      "cell_type": "code",
      "execution_count": 54,
      "metadata": {
        "colab": {
          "base_uri": "https://localhost:8080/"
        },
        "id": "KW7LZ1wEa15_",
        "outputId": "ddd3993a-6de2-4c08-f659-71b105661dea"
      },
      "outputs": [
        {
          "output_type": "stream",
          "name": "stdout",
          "text": [
            "Epoch 1/30\n",
            "13/13 [==============================] - 7s 49ms/step - loss: 0.1144\n",
            "Epoch 2/30\n",
            "13/13 [==============================] - 1s 49ms/step - loss: 0.0154\n",
            "Epoch 3/30\n",
            "13/13 [==============================] - 1s 48ms/step - loss: 0.0063\n",
            "Epoch 4/30\n",
            "13/13 [==============================] - 1s 47ms/step - loss: 0.0051\n",
            "Epoch 5/30\n",
            "13/13 [==============================] - 1s 49ms/step - loss: 0.0041\n",
            "Epoch 6/30\n",
            "13/13 [==============================] - 1s 47ms/step - loss: 0.0038\n",
            "Epoch 7/30\n",
            "13/13 [==============================] - 1s 81ms/step - loss: 0.0037\n",
            "Epoch 8/30\n",
            "13/13 [==============================] - 1s 86ms/step - loss: 0.0040\n",
            "Epoch 9/30\n",
            "13/13 [==============================] - 1s 82ms/step - loss: 0.0035\n",
            "Epoch 10/30\n",
            "13/13 [==============================] - 1s 87ms/step - loss: 0.0028\n",
            "Epoch 11/30\n",
            "13/13 [==============================] - 1s 81ms/step - loss: 0.0028\n",
            "Epoch 12/30\n",
            "13/13 [==============================] - 1s 68ms/step - loss: 0.0028\n",
            "Epoch 13/30\n",
            "13/13 [==============================] - 1s 48ms/step - loss: 0.0030\n",
            "Epoch 14/30\n",
            "13/13 [==============================] - 1s 47ms/step - loss: 0.0030\n",
            "Epoch 15/30\n",
            "13/13 [==============================] - 1s 56ms/step - loss: 0.0042\n",
            "Epoch 16/30\n",
            "13/13 [==============================] - 1s 53ms/step - loss: 0.0035\n",
            "Epoch 17/30\n",
            "13/13 [==============================] - 1s 47ms/step - loss: 0.0032\n",
            "Epoch 18/30\n",
            "13/13 [==============================] - 1s 49ms/step - loss: 0.0032\n",
            "Epoch 19/30\n",
            "13/13 [==============================] - 1s 52ms/step - loss: 0.0036\n",
            "Epoch 20/30\n",
            "13/13 [==============================] - 1s 47ms/step - loss: 0.0025\n",
            "Epoch 21/30\n",
            "13/13 [==============================] - 1s 51ms/step - loss: 0.0025\n",
            "Epoch 22/30\n",
            "13/13 [==============================] - 1s 50ms/step - loss: 0.0024\n",
            "Epoch 23/30\n",
            "13/13 [==============================] - 1s 48ms/step - loss: 0.0024\n",
            "Epoch 24/30\n",
            "13/13 [==============================] - 1s 49ms/step - loss: 0.0025\n",
            "Epoch 25/30\n",
            "13/13 [==============================] - 1s 51ms/step - loss: 0.0026\n",
            "Epoch 26/30\n",
            "13/13 [==============================] - 1s 49ms/step - loss: 0.0022\n",
            "Epoch 27/30\n",
            "13/13 [==============================] - 1s 50ms/step - loss: 0.0023\n",
            "Epoch 28/30\n",
            "13/13 [==============================] - 1s 90ms/step - loss: 0.0022\n",
            "Epoch 29/30\n",
            "13/13 [==============================] - 1s 81ms/step - loss: 0.0024\n",
            "Epoch 30/30\n",
            "13/13 [==============================] - 1s 77ms/step - loss: 0.0023\n",
            "2/2 [==============================] - 2s 18ms/step\n"
          ]
        }
      ],
      "source": [
        "mae, mape, acc,preds = run_model(1)"
      ]
    },
    {
      "cell_type": "code",
      "execution_count": 55,
      "metadata": {
        "colab": {
          "base_uri": "https://localhost:8080/"
        },
        "id": "6Okz-BRra78r",
        "outputId": "511e98cd-4f51-45f3-d7e2-68b920598ad8"
      },
      "outputs": [
        {
          "output_type": "stream",
          "name": "stdout",
          "text": [
            "Mean Absolute Error = 231.32958984375017\n",
            "Mean Absolute Percentage Error = 0.018423923083492357%\n",
            "Accuracy = 0.9815760769165076\n"
          ]
        }
      ],
      "source": [
        "print(f\"Mean Absolute Error = {mae}\")\n",
        "print(f\"Mean Absolute Percentage Error = {mape}%\")\n",
        "print(f\"Accuracy = {acc}\")"
      ]
    },
    {
      "cell_type": "code",
      "execution_count": 56,
      "metadata": {
        "colab": {
          "base_uri": "https://localhost:8080/",
          "height": 718
        },
        "id": "abVEdIutbDfw",
        "outputId": "5f918b94-f874-4d2f-b991-2ced2cee8b4a"
      },
      "outputs": [
        {
          "output_type": "display_data",
          "data": {
            "text/plain": [
              "<Figure size 1200x800 with 1 Axes>"
            ],
            "image/png": "[encoded data removed]"
          },
          "metadata": {}
        }
      ],
      "source": [
        "real = plt.plot(y_test, label='Actual Price')\n",
        "pred = plt.plot(preds, label='Predicted Price')\n",
        "\n",
        "plt.gcf().set_size_inches(12, 8, forward=True)\n",
        "plt.title('Plot of real price and predicted price against number of days')\n",
        "plt.xlabel('Number of days')\n",
        "plt.ylabel('Adjusted Close Price($)')\n",
        "\n",
        "plt.legend(['Actual Price', 'Predicted Price'])\n",
        "plt.show()"
      ]
    },
    {
      "cell_type": "code",
      "source": [],
      "metadata": {
        "id": "LYRcUttU5YAh"
      },
      "execution_count": null,
      "outputs": []
    }
  ],
  "metadata": {
    "anaconda-cloud": {},
    "colab": {
      "provenance": []
    },
    "kernelspec": {
      "display_name": "Python [TensorFlow]",
      "language": "python",
      "name": "Python [TensorFlow]"
    },
    "language_info": {
      "codemirror_mode": {
        "name": "ipython",
        "version": 3
      },
      "file_extension": ".py",
      "mimetype": "text/x-python",
      "name": "python",
      "nbconvert_exporter": "python",
      "pygments_lexer": "ipython3",
      "version": "3.6.3"
    },
    "widgets": {
      "application/vnd.jupyter.widget-state+json": {
        "ddf251b824e04faebb215b70bb37c62b": {
          "model_module": "@jupyter-widgets/controls",
          "model_name": "HBoxModel",
          "model_module_version": "1.5.0",
          "state": {
            "_dom_classes": [],
            "_model_module": "@jupyter-widgets/controls",
            "_model_module_version": "1.5.0",
            "_model_name": "HBoxModel",
            "_view_count": null,
            "_view_module": "@jupyter-widgets/controls",
            "_view_module_version": "1.5.0",
            "_view_name": "HBoxView",
            "box_style": "",
            "children": [
              "IPY_MODEL_dbe69b6476ce49139106a0d9dafa3fe1",
              "IPY_MODEL_7fe4fbbf84bc47859a499c5fce4b6f78",
              "IPY_MODEL_bdc2a1ff07c44f72850021fdd7442bc2"
            ],
            "layout": "IPY_MODEL_b36f91ee89de457ebe6b5b4bcf38b882"
          }
        },
        "dbe69b6476ce49139106a0d9dafa3fe1": {
          "model_module": "@jupyter-widgets/controls",
          "model_name": "HTMLModel",
          "model_module_version": "1.5.0",
          "state": {
            "_dom_classes": [],
            "_model_module": "@jupyter-widgets/controls",
            "_model_module_version": "1.5.0",
            "_model_name": "HTMLModel",
            "_view_count": null,
            "_view_module": "@jupyter-widgets/controls",
            "_view_module_version": "1.5.0",
            "_view_name": "HTMLView",
            "description": "",
            "description_tooltip": null,
            "layout": "IPY_MODEL_3313c11e115a4cfeb173cc1f1f45fab2",
            "placeholder": "​",
            "style": "IPY_MODEL_e6f47391785f46228a1df38f311a86d4",
            "value": "Downloading (…)okenizer_config.json: 100%"
          }
        },
        "7fe4fbbf84bc47859a499c5fce4b6f78": {
          "model_module": "@jupyter-widgets/controls",
          "model_name": "FloatProgressModel",
          "model_module_version": "1.5.0",
          "state": {
            "_dom_classes": [],
            "_model_module": "@jupyter-widgets/controls",
            "_model_module_version": "1.5.0",
            "_model_name": "FloatProgressModel",
            "_view_count": null,
            "_view_module": "@jupyter-widgets/controls",
            "_view_module_version": "1.5.0",
            "_view_name": "ProgressView",
            "bar_style": "success",
            "description": "",
            "description_tooltip": null,
            "layout": "IPY_MODEL_15688fd554a041d19199401c8cb93147",
            "max": 252,
            "min": 0,
            "orientation": "horizontal",
            "style": "IPY_MODEL_387cee8e09d441b2b3e7f39745370ce8",
            "value": 252
          }
        },
        "bdc2a1ff07c44f72850021fdd7442bc2": {
          "model_module": "@jupyter-widgets/controls",
          "model_name": "HTMLModel",
          "model_module_version": "1.5.0",
          "state": {
            "_dom_classes": [],
            "_model_module": "@jupyter-widgets/controls",
            "_model_module_version": "1.5.0",
            "_model_name": "HTMLModel",
            "_view_count": null,
            "_view_module": "@jupyter-widgets/controls",
            "_view_module_version": "1.5.0",
            "_view_name": "HTMLView",
            "description": "",
            "description_tooltip": null,
            "layout": "IPY_MODEL_16cf50b1d95841d4a471aa4f8e3b8652",
            "placeholder": "​",
            "style": "IPY_MODEL_ba163970d95b493a9ae3a106b406b343",
            "value": " 252/252 [00:00&lt;00:00, 9.59kB/s]"
          }
        },
        "b36f91ee89de457ebe6b5b4bcf38b882": {
          "model_module": "@jupyter-widgets/base",
          "model_name": "LayoutModel",
          "model_module_version": "1.2.0",
          "state": {
            "_model_module": "@jupyter-widgets/base",
            "_model_module_version": "1.2.0",
            "_model_name": "LayoutModel",
            "_view_count": null,
            "_view_module": "@jupyter-widgets/base",
            "_view_module_version": "1.2.0",
            "_view_name": "LayoutView",
            "align_content": null,
            "align_items": null,
            "align_self": null,
            "border": null,
            "bottom": null,
            "display": null,
            "flex": null,
            "flex_flow": null,
            "grid_area": null,
            "grid_auto_columns": null,
            "grid_auto_flow": null,
            "grid_auto_rows": null,
            "grid_column": null,
            "grid_gap": null,
            "grid_row": null,
            "grid_template_areas": null,
            "grid_template_columns": null,
            "grid_template_rows": null,
            "height": null,
            "justify_content": null,
            "justify_items": null,
            "left": null,
            "margin": null,
            "max_height": null,
            "max_width": null,
            "min_height": null,
            "min_width": null,
            "object_fit": null,
            "object_position": null,
            "order": null,
            "overflow": null,
            "overflow_x": null,
            "overflow_y": null,
            "padding": null,
            "right": null,
            "top": null,
            "visibility": null,
            "width": null
          }
        },
        "3313c11e115a4cfeb173cc1f1f45fab2": {
          "model_module": "@jupyter-widgets/base",
          "model_name": "LayoutModel",
          "model_module_version": "1.2.0",
          "state": {
            "_model_module": "@jupyter-widgets/base",
            "_model_module_version": "1.2.0",
            "_model_name": "LayoutModel",
            "_view_count": null,
            "_view_module": "@jupyter-widgets/base",
            "_view_module_version": "1.2.0",
            "_view_name": "LayoutView",
            "align_content": null,
            "align_items": null,
            "align_self": null,
            "border": null,
            "bottom": null,
            "display": null,
            "flex": null,
            "flex_flow": null,
            "grid_area": null,
            "grid_auto_columns": null,
            "grid_auto_flow": null,
            "grid_auto_rows": null,
            "grid_column": null,
            "grid_gap": null,
            "grid_row": null,
            "grid_template_areas": null,
            "grid_template_columns": null,
            "grid_template_rows": null,
            "height": null,
            "justify_content": null,
            "justify_items": null,
            "left": null,
            "margin": null,
            "max_height": null,
            "max_width": null,
            "min_height": null,
            "min_width": null,
            "object_fit": null,
            "object_position": null,
            "order": null,
            "overflow": null,
            "overflow_x": null,
            "overflow_y": null,
            "padding": null,
            "right": null,
            "top": null,
            "visibility": null,
            "width": null
          }
        },
        "e6f47391785f46228a1df38f311a86d4": {
          "model_module": "@jupyter-widgets/controls",
          "model_name": "DescriptionStyleModel",
          "model_module_version": "1.5.0",
          "state": {
            "_model_module": "@jupyter-widgets/controls",
            "_model_module_version": "1.5.0",
            "_model_name": "DescriptionStyleModel",
            "_view_count": null,
            "_view_module": "@jupyter-widgets/base",
            "_view_module_version": "1.2.0",
            "_view_name": "StyleView",
            "description_width": ""
          }
        },
        "15688fd554a041d19199401c8cb93147": {
          "model_module": "@jupyter-widgets/base",
          "model_name": "LayoutModel",
          "model_module_version": "1.2.0",
          "state": {
            "_model_module": "@jupyter-widgets/base",
            "_model_module_version": "1.2.0",
            "_model_name": "LayoutModel",
            "_view_count": null,
            "_view_module": "@jupyter-widgets/base",
            "_view_module_version": "1.2.0",
            "_view_name": "LayoutView",
            "align_content": null,
            "align_items": null,
            "align_self": null,
            "border": null,
            "bottom": null,
            "display": null,
            "flex": null,
            "flex_flow": null,
            "grid_area": null,
            "grid_auto_columns": null,
            "grid_auto_flow": null,
            "grid_auto_rows": null,
            "grid_column": null,
            "grid_gap": null,
            "grid_row": null,
            "grid_template_areas": null,
            "grid_template_columns": null,
            "grid_template_rows": null,
            "height": null,
            "justify_content": null,
            "justify_items": null,
            "left": null,
            "margin": null,
            "max_height": null,
            "max_width": null,
            "min_height": null,
            "min_width": null,
            "object_fit": null,
            "object_position": null,
            "order": null,
            "overflow": null,
            "overflow_x": null,
            "overflow_y": null,
            "padding": null,
            "right": null,
            "top": null,
            "visibility": null,
            "width": null
          }
        },
        "387cee8e09d441b2b3e7f39745370ce8": {
          "model_module": "@jupyter-widgets/controls",
          "model_name": "ProgressStyleModel",
          "model_module_version": "1.5.0",
          "state": {
            "_model_module": "@jupyter-widgets/controls",
            "_model_module_version": "1.5.0",
            "_model_name": "ProgressStyleModel",
            "_view_count": null,
            "_view_module": "@jupyter-widgets/base",
            "_view_module_version": "1.2.0",
            "_view_name": "StyleView",
            "bar_color": null,
            "description_width": ""
          }
        },
        "16cf50b1d95841d4a471aa4f8e3b8652": {
          "model_module": "@jupyter-widgets/base",
          "model_name": "LayoutModel",
          "model_module_version": "1.2.0",
          "state": {
            "_model_module": "@jupyter-widgets/base",
            "_model_module_version": "1.2.0",
            "_model_name": "LayoutModel",
            "_view_count": null,
            "_view_module": "@jupyter-widgets/base",
            "_view_module_version": "1.2.0",
            "_view_name": "LayoutView",
            "align_content": null,
            "align_items": null,
            "align_self": null,
            "border": null,
            "bottom": null,
            "display": null,
            "flex": null,
            "flex_flow": null,
            "grid_area": null,
            "grid_auto_columns": null,
            "grid_auto_flow": null,
            "grid_auto_rows": null,
            "grid_column": null,
            "grid_gap": null,
            "grid_row": null,
            "grid_template_areas": null,
            "grid_template_columns": null,
            "grid_template_rows": null,
            "height": null,
            "justify_content": null,
            "justify_items": null,
            "left": null,
            "margin": null,
            "max_height": null,
            "max_width": null,
            "min_height": null,
            "min_width": null,
            "object_fit": null,
            "object_position": null,
            "order": null,
            "overflow": null,
            "overflow_x": null,
            "overflow_y": null,
            "padding": null,
            "right": null,
            "top": null,
            "visibility": null,
            "width": null
          }
        },
        "ba163970d95b493a9ae3a106b406b343": {
          "model_module": "@jupyter-widgets/controls",
          "model_name": "DescriptionStyleModel",
          "model_module_version": "1.5.0",
          "state": {
            "_model_module": "@jupyter-widgets/controls",
            "_model_module_version": "1.5.0",
            "_model_name": "DescriptionStyleModel",
            "_view_count": null,
            "_view_module": "@jupyter-widgets/base",
            "_view_module_version": "1.2.0",
            "_view_name": "StyleView",
            "description_width": ""
          }
        },
        "7081f2e691354765b8912b2674efd1f8": {
          "model_module": "@jupyter-widgets/controls",
          "model_name": "HBoxModel",
          "model_module_version": "1.5.0",
          "state": {
            "_dom_classes": [],
            "_model_module": "@jupyter-widgets/controls",
            "_model_module_version": "1.5.0",
            "_model_name": "HBoxModel",
            "_view_count": null,
            "_view_module": "@jupyter-widgets/controls",
            "_view_module_version": "1.5.0",
            "_view_name": "HBoxView",
            "box_style": "",
            "children": [
              "IPY_MODEL_25d48f2aaf994a3c8c4989313a74048b",
              "IPY_MODEL_97439036080a4d629f5c118a04852e4e",
              "IPY_MODEL_81ad457b7513470dbf92faac8494907f"
            ],
            "layout": "IPY_MODEL_07b124a7ac6a418ea76e65a192e8778b"
          }
        },
        "25d48f2aaf994a3c8c4989313a74048b": {
          "model_module": "@jupyter-widgets/controls",
          "model_name": "HTMLModel",
          "model_module_version": "1.5.0",
          "state": {
            "_dom_classes": [],
            "_model_module": "@jupyter-widgets/controls",
            "_model_module_version": "1.5.0",
            "_model_name": "HTMLModel",
            "_view_count": null,
            "_view_module": "@jupyter-widgets/controls",
            "_view_module_version": "1.5.0",
            "_view_name": "HTMLView",
            "description": "",
            "description_tooltip": null,
            "layout": "IPY_MODEL_0d14603d387249fc92fb5af7916edcf1",
            "placeholder": "​",
            "style": "IPY_MODEL_b364ccdc9cd04b2da6539d64da8e3729",
            "value": "Downloading (…)lve/main/config.json: 100%"
          }
        },
        "97439036080a4d629f5c118a04852e4e": {
          "model_module": "@jupyter-widgets/controls",
          "model_name": "FloatProgressModel",
          "model_module_version": "1.5.0",
          "state": {
            "_dom_classes": [],
            "_model_module": "@jupyter-widgets/controls",
            "_model_module_version": "1.5.0",
            "_model_name": "FloatProgressModel",
            "_view_count": null,
            "_view_module": "@jupyter-widgets/controls",
            "_view_module_version": "1.5.0",
            "_view_name": "ProgressView",
            "bar_style": "success",
            "description": "",
            "description_tooltip": null,
            "layout": "IPY_MODEL_793737be017e44d8beac5579f1ec2834",
            "max": 758,
            "min": 0,
            "orientation": "horizontal",
            "style": "IPY_MODEL_db7a7020011a48a894215514f008f467",
            "value": 758
          }
        },
        "81ad457b7513470dbf92faac8494907f": {
          "model_module": "@jupyter-widgets/controls",
          "model_name": "HTMLModel",
          "model_module_version": "1.5.0",
          "state": {
            "_dom_classes": [],
            "_model_module": "@jupyter-widgets/controls",
            "_model_module_version": "1.5.0",
            "_model_name": "HTMLModel",
            "_view_count": null,
            "_view_module": "@jupyter-widgets/controls",
            "_view_module_version": "1.5.0",
            "_view_name": "HTMLView",
            "description": "",
            "description_tooltip": null,
            "layout": "IPY_MODEL_7e08ac9374954705937b049d73105cb8",
            "placeholder": "​",
            "style": "IPY_MODEL_abd954880c1e423fa050a82b8e8c31b7",
            "value": " 758/758 [00:00&lt;00:00, 35.4kB/s]"
          }
        },
        "07b124a7ac6a418ea76e65a192e8778b": {
          "model_module": "@jupyter-widgets/base",
          "model_name": "LayoutModel",
          "model_module_version": "1.2.0",
          "state": {
            "_model_module": "@jupyter-widgets/base",
            "_model_module_version": "1.2.0",
            "_model_name": "LayoutModel",
            "_view_count": null,
            "_view_module": "@jupyter-widgets/base",
            "_view_module_version": "1.2.0",
            "_view_name": "LayoutView",
            "align_content": null,
            "align_items": null,
            "align_self": null,
            "border": null,
            "bottom": null,
            "display": null,
            "flex": null,
            "flex_flow": null,
            "grid_area": null,
            "grid_auto_columns": null,
            "grid_auto_flow": null,
            "grid_auto_rows": null,
            "grid_column": null,
            "grid_gap": null,
            "grid_row": null,
            "grid_template_areas": null,
            "grid_template_columns": null,
            "grid_template_rows": null,
            "height": null,
            "justify_content": null,
            "justify_items": null,
            "left": null,
            "margin": null,
            "max_height": null,
            "max_width": null,
            "min_height": null,
            "min_width": null,
            "object_fit": null,
            "object_position": null,
            "order": null,
            "overflow": null,
            "overflow_x": null,
            "overflow_y": null,
            "padding": null,
            "right": null,
            "top": null,
            "visibility": null,
            "width": null
          }
        },
        "0d14603d387249fc92fb5af7916edcf1": {
          "model_module": "@jupyter-widgets/base",
          "model_name": "LayoutModel",
          "model_module_version": "1.2.0",
          "state": {
            "_model_module": "@jupyter-widgets/base",
            "_model_module_version": "1.2.0",
            "_model_name": "LayoutModel",
            "_view_count": null,
            "_view_module": "@jupyter-widgets/base",
            "_view_module_version": "1.2.0",
            "_view_name": "LayoutView",
            "align_content": null,
            "align_items": null,
            "align_self": null,
            "border": null,
            "bottom": null,
            "display": null,
            "flex": null,
            "flex_flow": null,
            "grid_area": null,
            "grid_auto_columns": null,
            "grid_auto_flow": null,
            "grid_auto_rows": null,
            "grid_column": null,
            "grid_gap": null,
            "grid_row": null,
            "grid_template_areas": null,
            "grid_template_columns": null,
            "grid_template_rows": null,
            "height": null,
            "justify_content": null,
            "justify_items": null,
            "left": null,
            "margin": null,
            "max_height": null,
            "max_width": null,
            "min_height": null,
            "min_width": null,
            "object_fit": null,
            "object_position": null,
            "order": null,
            "overflow": null,
            "overflow_x": null,
            "overflow_y": null,
            "padding": null,
            "right": null,
            "top": null,
            "visibility": null,
            "width": null
          }
        },
        "b364ccdc9cd04b2da6539d64da8e3729": {
          "model_module": "@jupyter-widgets/controls",
          "model_name": "DescriptionStyleModel",
          "model_module_version": "1.5.0",
          "state": {
            "_model_module": "@jupyter-widgets/controls",
            "_model_module_version": "1.5.0",
            "_model_name": "DescriptionStyleModel",
            "_view_count": null,
            "_view_module": "@jupyter-widgets/base",
            "_view_module_version": "1.2.0",
            "_view_name": "StyleView",
            "description_width": ""
          }
        },
        "793737be017e44d8beac5579f1ec2834": {
          "model_module": "@jupyter-widgets/base",
          "model_name": "LayoutModel",
          "model_module_version": "1.2.0",
          "state": {
            "_model_module": "@jupyter-widgets/base",
            "_model_module_version": "1.2.0",
            "_model_name": "LayoutModel",
            "_view_count": null,
            "_view_module": "@jupyter-widgets/base",
            "_view_module_version": "1.2.0",
            "_view_name": "LayoutView",
            "align_content": null,
            "align_items": null,
            "align_self": null,
            "border": null,
            "bottom": null,
            "display": null,
            "flex": null,
            "flex_flow": null,
            "grid_area": null,
            "grid_auto_columns": null,
            "grid_auto_flow": null,
            "grid_auto_rows": null,
            "grid_column": null,
            "grid_gap": null,
            "grid_row": null,
            "grid_template_areas": null,
            "grid_template_columns": null,
            "grid_template_rows": null,
            "height": null,
            "justify_content": null,
            "justify_items": null,
            "left": null,
            "margin": null,
            "max_height": null,
            "max_width": null,
            "min_height": null,
            "min_width": null,
            "object_fit": null,
            "object_position": null,
            "order": null,
            "overflow": null,
            "overflow_x": null,
            "overflow_y": null,
            "padding": null,
            "right": null,
            "top": null,
            "visibility": null,
            "width": null
          }
        },
        "db7a7020011a48a894215514f008f467": {
          "model_module": "@jupyter-widgets/controls",
          "model_name": "ProgressStyleModel",
          "model_module_version": "1.5.0",
          "state": {
            "_model_module": "@jupyter-widgets/controls",
            "_model_module_version": "1.5.0",
            "_model_name": "ProgressStyleModel",
            "_view_count": null,
            "_view_module": "@jupyter-widgets/base",
            "_view_module_version": "1.2.0",
            "_view_name": "StyleView",
            "bar_color": null,
            "description_width": ""
          }
        },
        "7e08ac9374954705937b049d73105cb8": {
          "model_module": "@jupyter-widgets/base",
          "model_name": "LayoutModel",
          "model_module_version": "1.2.0",
          "state": {
            "_model_module": "@jupyter-widgets/base",
            "_model_module_version": "1.2.0",
            "_model_name": "LayoutModel",
            "_view_count": null,
            "_view_module": "@jupyter-widgets/base",
            "_view_module_version": "1.2.0",
            "_view_name": "LayoutView",
            "align_content": null,
            "align_items": null,
            "align_self": null,
            "border": null,
            "bottom": null,
            "display": null,
            "flex": null,
            "flex_flow": null,
            "grid_area": null,
            "grid_auto_columns": null,
            "grid_auto_flow": null,
            "grid_auto_rows": null,
            "grid_column": null,
            "grid_gap": null,
            "grid_row": null,
            "grid_template_areas": null,
            "grid_template_columns": null,
            "grid_template_rows": null,
            "height": null,
            "justify_content": null,
            "justify_items": null,
            "left": null,
            "margin": null,
            "max_height": null,
            "max_width": null,
            "min_height": null,
            "min_width": null,
            "object_fit": null,
            "object_position": null,
            "order": null,
            "overflow": null,
            "overflow_x": null,
            "overflow_y": null,
            "padding": null,
            "right": null,
            "top": null,
            "visibility": null,
            "width": null
          }
        },
        "abd954880c1e423fa050a82b8e8c31b7": {
          "model_module": "@jupyter-widgets/controls",
          "model_name": "DescriptionStyleModel",
          "model_module_version": "1.5.0",
          "state": {
            "_model_module": "@jupyter-widgets/controls",
            "_model_module_version": "1.5.0",
            "_model_name": "DescriptionStyleModel",
            "_view_count": null,
            "_view_module": "@jupyter-widgets/base",
            "_view_module_version": "1.2.0",
            "_view_name": "StyleView",
            "description_width": ""
          }
        },
        "e3089b6a74fa40a59110c5a5b194aac4": {
          "model_module": "@jupyter-widgets/controls",
          "model_name": "HBoxModel",
          "model_module_version": "1.5.0",
          "state": {
            "_dom_classes": [],
            "_model_module": "@jupyter-widgets/controls",
            "_model_module_version": "1.5.0",
            "_model_name": "HBoxModel",
            "_view_count": null,
            "_view_module": "@jupyter-widgets/controls",
            "_view_module_version": "1.5.0",
            "_view_name": "HBoxView",
            "box_style": "",
            "children": [
              "IPY_MODEL_68a2ee44dae648269ea518e086f7f4cd",
              "IPY_MODEL_8e6131c36b6441d4853e945adefee661",
              "IPY_MODEL_31c033f85d5a4815a1b129b7e4658794"
            ],
            "layout": "IPY_MODEL_001e4ce206534584bf900f1dd4423f09"
          }
        },
        "68a2ee44dae648269ea518e086f7f4cd": {
          "model_module": "@jupyter-widgets/controls",
          "model_name": "HTMLModel",
          "model_module_version": "1.5.0",
          "state": {
            "_dom_classes": [],
            "_model_module": "@jupyter-widgets/controls",
            "_model_module_version": "1.5.0",
            "_model_name": "HTMLModel",
            "_view_count": null,
            "_view_module": "@jupyter-widgets/controls",
            "_view_module_version": "1.5.0",
            "_view_name": "HTMLView",
            "description": "",
            "description_tooltip": null,
            "layout": "IPY_MODEL_7bece945925542d68a3adc96fa2028aa",
            "placeholder": "​",
            "style": "IPY_MODEL_9331af09fb9c424691125cd19a7b794f",
            "value": "Downloading (…)solve/main/vocab.txt: 100%"
          }
        },
        "8e6131c36b6441d4853e945adefee661": {
          "model_module": "@jupyter-widgets/controls",
          "model_name": "FloatProgressModel",
          "model_module_version": "1.5.0",
          "state": {
            "_dom_classes": [],
            "_model_module": "@jupyter-widgets/controls",
            "_model_module_version": "1.5.0",
            "_model_name": "FloatProgressModel",
            "_view_count": null,
            "_view_module": "@jupyter-widgets/controls",
            "_view_module_version": "1.5.0",
            "_view_name": "ProgressView",
            "bar_style": "success",
            "description": "",
            "description_tooltip": null,
            "layout": "IPY_MODEL_9e9bef9080c5441b973498c8c8b35487",
            "max": 231508,
            "min": 0,
            "orientation": "horizontal",
            "style": "IPY_MODEL_c10fc2d875d240768e4faaa166444c1d",
            "value": 231508
          }
        },
        "31c033f85d5a4815a1b129b7e4658794": {
          "model_module": "@jupyter-widgets/controls",
          "model_name": "HTMLModel",
          "model_module_version": "1.5.0",
          "state": {
            "_dom_classes": [],
            "_model_module": "@jupyter-widgets/controls",
            "_model_module_version": "1.5.0",
            "_model_name": "HTMLModel",
            "_view_count": null,
            "_view_module": "@jupyter-widgets/controls",
            "_view_module_version": "1.5.0",
            "_view_name": "HTMLView",
            "description": "",
            "description_tooltip": null,
            "layout": "IPY_MODEL_c8ca1fa4b776446982d6b338971c5327",
            "placeholder": "​",
            "style": "IPY_MODEL_9f2d830fddc94025a494f8bfda9b2e77",
            "value": " 232k/232k [00:00&lt;00:00, 5.12MB/s]"
          }
        },
        "001e4ce206534584bf900f1dd4423f09": {
          "model_module": "@jupyter-widgets/base",
          "model_name": "LayoutModel",
          "model_module_version": "1.2.0",
          "state": {
            "_model_module": "@jupyter-widgets/base",
            "_model_module_version": "1.2.0",
            "_model_name": "LayoutModel",
            "_view_count": null,
            "_view_module": "@jupyter-widgets/base",
            "_view_module_version": "1.2.0",
            "_view_name": "LayoutView",
            "align_content": null,
            "align_items": null,
            "align_self": null,
            "border": null,
            "bottom": null,
            "display": null,
            "flex": null,
            "flex_flow": null,
            "grid_area": null,
            "grid_auto_columns": null,
            "grid_auto_flow": null,
            "grid_auto_rows": null,
            "grid_column": null,
            "grid_gap": null,
            "grid_row": null,
            "grid_template_areas": null,
            "grid_template_columns": null,
            "grid_template_rows": null,
            "height": null,
            "justify_content": null,
            "justify_items": null,
            "left": null,
            "margin": null,
            "max_height": null,
            "max_width": null,
            "min_height": null,
            "min_width": null,
            "object_fit": null,
            "object_position": null,
            "order": null,
            "overflow": null,
            "overflow_x": null,
            "overflow_y": null,
            "padding": null,
            "right": null,
            "top": null,
            "visibility": null,
            "width": null
          }
        },
        "7bece945925542d68a3adc96fa2028aa": {
          "model_module": "@jupyter-widgets/base",
          "model_name": "LayoutModel",
          "model_module_version": "1.2.0",
          "state": {
            "_model_module": "@jupyter-widgets/base",
            "_model_module_version": "1.2.0",
            "_model_name": "LayoutModel",
            "_view_count": null,
            "_view_module": "@jupyter-widgets/base",
            "_view_module_version": "1.2.0",
            "_view_name": "LayoutView",
            "align_content": null,
            "align_items": null,
            "align_self": null,
            "border": null,
            "bottom": null,
            "display": null,
            "flex": null,
            "flex_flow": null,
            "grid_area": null,
            "grid_auto_columns": null,
            "grid_auto_flow": null,
            "grid_auto_rows": null,
            "grid_column": null,
            "grid_gap": null,
            "grid_row": null,
            "grid_template_areas": null,
            "grid_template_columns": null,
            "grid_template_rows": null,
            "height": null,
            "justify_content": null,
            "justify_items": null,
            "left": null,
            "margin": null,
            "max_height": null,
            "max_width": null,
            "min_height": null,
            "min_width": null,
            "object_fit": null,
            "object_position": null,
            "order": null,
            "overflow": null,
            "overflow_x": null,
            "overflow_y": null,
            "padding": null,
            "right": null,
            "top": null,
            "visibility": null,
            "width": null
          }
        },
        "9331af09fb9c424691125cd19a7b794f": {
          "model_module": "@jupyter-widgets/controls",
          "model_name": "DescriptionStyleModel",
          "model_module_version": "1.5.0",
          "state": {
            "_model_module": "@jupyter-widgets/controls",
            "_model_module_version": "1.5.0",
            "_model_name": "DescriptionStyleModel",
            "_view_count": null,
            "_view_module": "@jupyter-widgets/base",
            "_view_module_version": "1.2.0",
            "_view_name": "StyleView",
            "description_width": ""
          }
        },
        "9e9bef9080c5441b973498c8c8b35487": {
          "model_module": "@jupyter-widgets/base",
          "model_name": "LayoutModel",
          "model_module_version": "1.2.0",
          "state": {
            "_model_module": "@jupyter-widgets/base",
            "_model_module_version": "1.2.0",
            "_model_name": "LayoutModel",
            "_view_count": null,
            "_view_module": "@jupyter-widgets/base",
            "_view_module_version": "1.2.0",
            "_view_name": "LayoutView",
            "align_content": null,
            "align_items": null,
            "align_self": null,
            "border": null,
            "bottom": null,
            "display": null,
            "flex": null,
            "flex_flow": null,
            "grid_area": null,
            "grid_auto_columns": null,
            "grid_auto_flow": null,
            "grid_auto_rows": null,
            "grid_column": null,
            "grid_gap": null,
            "grid_row": null,
            "grid_template_areas": null,
            "grid_template_columns": null,
            "grid_template_rows": null,
            "height": null,
            "justify_content": null,
            "justify_items": null,
            "left": null,
            "margin": null,
            "max_height": null,
            "max_width": null,
            "min_height": null,
            "min_width": null,
            "object_fit": null,
            "object_position": null,
            "order": null,
            "overflow": null,
            "overflow_x": null,
            "overflow_y": null,
            "padding": null,
            "right": null,
            "top": null,
            "visibility": null,
            "width": null
          }
        },
        "c10fc2d875d240768e4faaa166444c1d": {
          "model_module": "@jupyter-widgets/controls",
          "model_name": "ProgressStyleModel",
          "model_module_version": "1.5.0",
          "state": {
            "_model_module": "@jupyter-widgets/controls",
            "_model_module_version": "1.5.0",
            "_model_name": "ProgressStyleModel",
            "_view_count": null,
            "_view_module": "@jupyter-widgets/base",
            "_view_module_version": "1.2.0",
            "_view_name": "StyleView",
            "bar_color": null,
            "description_width": ""
          }
        },
        "c8ca1fa4b776446982d6b338971c5327": {
          "model_module": "@jupyter-widgets/base",
          "model_name": "LayoutModel",
          "model_module_version": "1.2.0",
          "state": {
            "_model_module": "@jupyter-widgets/base",
            "_model_module_version": "1.2.0",
            "_model_name": "LayoutModel",
            "_view_count": null,
            "_view_module": "@jupyter-widgets/base",
            "_view_module_version": "1.2.0",
            "_view_name": "LayoutView",
            "align_content": null,
            "align_items": null,
            "align_self": null,
            "border": null,
            "bottom": null,
            "display": null,
            "flex": null,
            "flex_flow": null,
            "grid_area": null,
            "grid_auto_columns": null,
            "grid_auto_flow": null,
            "grid_auto_rows": null,
            "grid_column": null,
            "grid_gap": null,
            "grid_row": null,
            "grid_template_areas": null,
            "grid_template_columns": null,
            "grid_template_rows": null,
            "height": null,
            "justify_content": null,
            "justify_items": null,
            "left": null,
            "margin": null,
            "max_height": null,
            "max_width": null,
            "min_height": null,
            "min_width": null,
            "object_fit": null,
            "object_position": null,
            "order": null,
            "overflow": null,
            "overflow_x": null,
            "overflow_y": null,
            "padding": null,
            "right": null,
            "top": null,
            "visibility": null,
            "width": null
          }
        },
        "9f2d830fddc94025a494f8bfda9b2e77": {
          "model_module": "@jupyter-widgets/controls",
          "model_name": "DescriptionStyleModel",
          "model_module_version": "1.5.0",
          "state": {
            "_model_module": "@jupyter-widgets/controls",
            "_model_module_version": "1.5.0",
            "_model_name": "DescriptionStyleModel",
            "_view_count": null,
            "_view_module": "@jupyter-widgets/base",
            "_view_module_version": "1.2.0",
            "_view_name": "StyleView",
            "description_width": ""
          }
        },
        "d20cf8e1e87f4155b82f9f3f64d9b141": {
          "model_module": "@jupyter-widgets/controls",
          "model_name": "HBoxModel",
          "model_module_version": "1.5.0",
          "state": {
            "_dom_classes": [],
            "_model_module": "@jupyter-widgets/controls",
            "_model_module_version": "1.5.0",
            "_model_name": "HBoxModel",
            "_view_count": null,
            "_view_module": "@jupyter-widgets/controls",
            "_view_module_version": "1.5.0",
            "_view_name": "HBoxView",
            "box_style": "",
            "children": [
              "IPY_MODEL_0ce7a6b27e474632a159dc7ee4569c60",
              "IPY_MODEL_63fb60cfc3a141e1a0e9714a610f78d5",
              "IPY_MODEL_d7c3bae6755549d488b9d95a8eebc3ba"
            ],
            "layout": "IPY_MODEL_de8c66a9d35c44789b9303c9b4eb31b8"
          }
        },
        "0ce7a6b27e474632a159dc7ee4569c60": {
          "model_module": "@jupyter-widgets/controls",
          "model_name": "HTMLModel",
          "model_module_version": "1.5.0",
          "state": {
            "_dom_classes": [],
            "_model_module": "@jupyter-widgets/controls",
            "_model_module_version": "1.5.0",
            "_model_name": "HTMLModel",
            "_view_count": null,
            "_view_module": "@jupyter-widgets/controls",
            "_view_module_version": "1.5.0",
            "_view_name": "HTMLView",
            "description": "",
            "description_tooltip": null,
            "layout": "IPY_MODEL_ce22665d19b44df69e2627fc9c9f084e",
            "placeholder": "​",
            "style": "IPY_MODEL_ff3fcfc5ade04ab1873580608fe39c94",
            "value": "Downloading (…)cial_tokens_map.json: 100%"
          }
        },
        "63fb60cfc3a141e1a0e9714a610f78d5": {
          "model_module": "@jupyter-widgets/controls",
          "model_name": "FloatProgressModel",
          "model_module_version": "1.5.0",
          "state": {
            "_dom_classes": [],
            "_model_module": "@jupyter-widgets/controls",
            "_model_module_version": "1.5.0",
            "_model_name": "FloatProgressModel",
            "_view_count": null,
            "_view_module": "@jupyter-widgets/controls",
            "_view_module_version": "1.5.0",
            "_view_name": "ProgressView",
            "bar_style": "success",
            "description": "",
            "description_tooltip": null,
            "layout": "IPY_MODEL_3046e9fb61aa4b35b303b0fa2322b358",
            "max": 112,
            "min": 0,
            "orientation": "horizontal",
            "style": "IPY_MODEL_4934634a06fa4d8a8209405d62a51c2a",
            "value": 112
          }
        },
        "d7c3bae6755549d488b9d95a8eebc3ba": {
          "model_module": "@jupyter-widgets/controls",
          "model_name": "HTMLModel",
          "model_module_version": "1.5.0",
          "state": {
            "_dom_classes": [],
            "_model_module": "@jupyter-widgets/controls",
            "_model_module_version": "1.5.0",
            "_model_name": "HTMLModel",
            "_view_count": null,
            "_view_module": "@jupyter-widgets/controls",
            "_view_module_version": "1.5.0",
            "_view_name": "HTMLView",
            "description": "",
            "description_tooltip": null,
            "layout": "IPY_MODEL_ec338dd1aa5e45b98feb3f0eb339417a",
            "placeholder": "​",
            "style": "IPY_MODEL_8544cca537514fb68c1aa8f463da026c",
            "value": " 112/112 [00:00&lt;00:00, 3.05kB/s]"
          }
        },
        "de8c66a9d35c44789b9303c9b4eb31b8": {
          "model_module": "@jupyter-widgets/base",
          "model_name": "LayoutModel",
          "model_module_version": "1.2.0",
          "state": {
            "_model_module": "@jupyter-widgets/base",
            "_model_module_version": "1.2.0",
            "_model_name": "LayoutModel",
            "_view_count": null,
            "_view_module": "@jupyter-widgets/base",
            "_view_module_version": "1.2.0",
            "_view_name": "LayoutView",
            "align_content": null,
            "align_items": null,
            "align_self": null,
            "border": null,
            "bottom": null,
            "display": null,
            "flex": null,
            "flex_flow": null,
            "grid_area": null,
            "grid_auto_columns": null,
            "grid_auto_flow": null,
            "grid_auto_rows": null,
            "grid_column": null,
            "grid_gap": null,
            "grid_row": null,
            "grid_template_areas": null,
            "grid_template_columns": null,
            "grid_template_rows": null,
            "height": null,
            "justify_content": null,
            "justify_items": null,
            "left": null,
            "margin": null,
            "max_height": null,
            "max_width": null,
            "min_height": null,
            "min_width": null,
            "object_fit": null,
            "object_position": null,
            "order": null,
            "overflow": null,
            "overflow_x": null,
            "overflow_y": null,
            "padding": null,
            "right": null,
            "top": null,
            "visibility": null,
            "width": null
          }
        },
        "ce22665d19b44df69e2627fc9c9f084e": {
          "model_module": "@jupyter-widgets/base",
          "model_name": "LayoutModel",
          "model_module_version": "1.2.0",
          "state": {
            "_model_module": "@jupyter-widgets/base",
            "_model_module_version": "1.2.0",
            "_model_name": "LayoutModel",
            "_view_count": null,
            "_view_module": "@jupyter-widgets/base",
            "_view_module_version": "1.2.0",
            "_view_name": "LayoutView",
            "align_content": null,
            "align_items": null,
            "align_self": null,
            "border": null,
            "bottom": null,
            "display": null,
            "flex": null,
            "flex_flow": null,
            "grid_area": null,
            "grid_auto_columns": null,
            "grid_auto_flow": null,
            "grid_auto_rows": null,
            "grid_column": null,
            "grid_gap": null,
            "grid_row": null,
            "grid_template_areas": null,
            "grid_template_columns": null,
            "grid_template_rows": null,
            "height": null,
            "justify_content": null,
            "justify_items": null,
            "left": null,
            "margin": null,
            "max_height": null,
            "max_width": null,
            "min_height": null,
            "min_width": null,
            "object_fit": null,
            "object_position": null,
            "order": null,
            "overflow": null,
            "overflow_x": null,
            "overflow_y": null,
            "padding": null,
            "right": null,
            "top": null,
            "visibility": null,
            "width": null
          }
        },
        "ff3fcfc5ade04ab1873580608fe39c94": {
          "model_module": "@jupyter-widgets/controls",
          "model_name": "DescriptionStyleModel",
          "model_module_version": "1.5.0",
          "state": {
            "_model_module": "@jupyter-widgets/controls",
            "_model_module_version": "1.5.0",
            "_model_name": "DescriptionStyleModel",
            "_view_count": null,
            "_view_module": "@jupyter-widgets/base",
            "_view_module_version": "1.2.0",
            "_view_name": "StyleView",
            "description_width": ""
          }
        },
        "3046e9fb61aa4b35b303b0fa2322b358": {
          "model_module": "@jupyter-widgets/base",
          "model_name": "LayoutModel",
          "model_module_version": "1.2.0",
          "state": {
            "_model_module": "@jupyter-widgets/base",
            "_model_module_version": "1.2.0",
            "_model_name": "LayoutModel",
            "_view_count": null,
            "_view_module": "@jupyter-widgets/base",
            "_view_module_version": "1.2.0",
            "_view_name": "LayoutView",
            "align_content": null,
            "align_items": null,
            "align_self": null,
            "border": null,
            "bottom": null,
            "display": null,
            "flex": null,
            "flex_flow": null,
            "grid_area": null,
            "grid_auto_columns": null,
            "grid_auto_flow": null,
            "grid_auto_rows": null,
            "grid_column": null,
            "grid_gap": null,
            "grid_row": null,
            "grid_template_areas": null,
            "grid_template_columns": null,
            "grid_template_rows": null,
            "height": null,
            "justify_content": null,
            "justify_items": null,
            "left": null,
            "margin": null,
            "max_height": null,
            "max_width": null,
            "min_height": null,
            "min_width": null,
            "object_fit": null,
            "object_position": null,
            "order": null,
            "overflow": null,
            "overflow_x": null,
            "overflow_y": null,
            "padding": null,
            "right": null,
            "top": null,
            "visibility": null,
            "width": null
          }
        },
        "4934634a06fa4d8a8209405d62a51c2a": {
          "model_module": "@jupyter-widgets/controls",
          "model_name": "ProgressStyleModel",
          "model_module_version": "1.5.0",
          "state": {
            "_model_module": "@jupyter-widgets/controls",
            "_model_module_version": "1.5.0",
            "_model_name": "ProgressStyleModel",
            "_view_count": null,
            "_view_module": "@jupyter-widgets/base",
            "_view_module_version": "1.2.0",
            "_view_name": "StyleView",
            "bar_color": null,
            "description_width": ""
          }
        },
        "ec338dd1aa5e45b98feb3f0eb339417a": {
          "model_module": "@jupyter-widgets/base",
          "model_name": "LayoutModel",
          "model_module_version": "1.2.0",
          "state": {
            "_model_module": "@jupyter-widgets/base",
            "_model_module_version": "1.2.0",
            "_model_name": "LayoutModel",
            "_view_count": null,
            "_view_module": "@jupyter-widgets/base",
            "_view_module_version": "1.2.0",
            "_view_name": "LayoutView",
            "align_content": null,
            "align_items": null,
            "align_self": null,
            "border": null,
            "bottom": null,
            "display": null,
            "flex": null,
            "flex_flow": null,
            "grid_area": null,
            "grid_auto_columns": null,
            "grid_auto_flow": null,
            "grid_auto_rows": null,
            "grid_column": null,
            "grid_gap": null,
            "grid_row": null,
            "grid_template_areas": null,
            "grid_template_columns": null,
            "grid_template_rows": null,
            "height": null,
            "justify_content": null,
            "justify_items": null,
            "left": null,
            "margin": null,
            "max_height": null,
            "max_width": null,
            "min_height": null,
            "min_width": null,
            "object_fit": null,
            "object_position": null,
            "order": null,
            "overflow": null,
            "overflow_x": null,
            "overflow_y": null,
            "padding": null,
            "right": null,
            "top": null,
            "visibility": null,
            "width": null
          }
        },
        "8544cca537514fb68c1aa8f463da026c": {
          "model_module": "@jupyter-widgets/controls",
          "model_name": "DescriptionStyleModel",
          "model_module_version": "1.5.0",
          "state": {
            "_model_module": "@jupyter-widgets/controls",
            "_model_module_version": "1.5.0",
            "_model_name": "DescriptionStyleModel",
            "_view_count": null,
            "_view_module": "@jupyter-widgets/base",
            "_view_module_version": "1.2.0",
            "_view_name": "StyleView",
            "description_width": ""
          }
        },
        "4b205b61627140d180ddabd0c22f2e24": {
          "model_module": "@jupyter-widgets/controls",
          "model_name": "HBoxModel",
          "model_module_version": "1.5.0",
          "state": {
            "_dom_classes": [],
            "_model_module": "@jupyter-widgets/controls",
            "_model_module_version": "1.5.0",
            "_model_name": "HBoxModel",
            "_view_count": null,
            "_view_module": "@jupyter-widgets/controls",
            "_view_module_version": "1.5.0",
            "_view_name": "HBoxView",
            "box_style": "",
            "children": [
              "IPY_MODEL_7a34a6e3296a43f9b92b3d639a66d1c2",
              "IPY_MODEL_468bb55b254446df91410b63d33e5d30",
              "IPY_MODEL_1cf264da3d25436aba24cc2f56024e45"
            ],
            "layout": "IPY_MODEL_af348df5587c4420b8b626dbffd49649"
          }
        },
        "7a34a6e3296a43f9b92b3d639a66d1c2": {
          "model_module": "@jupyter-widgets/controls",
          "model_name": "HTMLModel",
          "model_module_version": "1.5.0",
          "state": {
            "_dom_classes": [],
            "_model_module": "@jupyter-widgets/controls",
            "_model_module_version": "1.5.0",
            "_model_name": "HTMLModel",
            "_view_count": null,
            "_view_module": "@jupyter-widgets/controls",
            "_view_module_version": "1.5.0",
            "_view_name": "HTMLView",
            "description": "",
            "description_tooltip": null,
            "layout": "IPY_MODEL_ccfdb4c090f842feba580f504683981c",
            "placeholder": "​",
            "style": "IPY_MODEL_968d28d6a2c64d58ad5525b68a645fa7",
            "value": "Downloading pytorch_model.bin: 100%"
          }
        },
        "468bb55b254446df91410b63d33e5d30": {
          "model_module": "@jupyter-widgets/controls",
          "model_name": "FloatProgressModel",
          "model_module_version": "1.5.0",
          "state": {
            "_dom_classes": [],
            "_model_module": "@jupyter-widgets/controls",
            "_model_module_version": "1.5.0",
            "_model_name": "FloatProgressModel",
            "_view_count": null,
            "_view_module": "@jupyter-widgets/controls",
            "_view_module_version": "1.5.0",
            "_view_name": "ProgressView",
            "bar_style": "success",
            "description": "",
            "description_tooltip": null,
            "layout": "IPY_MODEL_dbf329f708ec40aca14eccdc1b7afda4",
            "max": 437992753,
            "min": 0,
            "orientation": "horizontal",
            "style": "IPY_MODEL_e218fa35b1ac446d8c4e0e9d4388b449",
            "value": 437992753
          }
        },
        "1cf264da3d25436aba24cc2f56024e45": {
          "model_module": "@jupyter-widgets/controls",
          "model_name": "HTMLModel",
          "model_module_version": "1.5.0",
          "state": {
            "_dom_classes": [],
            "_model_module": "@jupyter-widgets/controls",
            "_model_module_version": "1.5.0",
            "_model_name": "HTMLModel",
            "_view_count": null,
            "_view_module": "@jupyter-widgets/controls",
            "_view_module_version": "1.5.0",
            "_view_name": "HTMLView",
            "description": "",
            "description_tooltip": null,
            "layout": "IPY_MODEL_1b31aad5b9694ddf91ea9be97f751091",
            "placeholder": "​",
            "style": "IPY_MODEL_e173872e3a3842cda77f90a676c9ae83",
            "value": " 438M/438M [00:01&lt;00:00, 247MB/s]"
          }
        },
        "af348df5587c4420b8b626dbffd49649": {
          "model_module": "@jupyter-widgets/base",
          "model_name": "LayoutModel",
          "model_module_version": "1.2.0",
          "state": {
            "_model_module": "@jupyter-widgets/base",
            "_model_module_version": "1.2.0",
            "_model_name": "LayoutModel",
            "_view_count": null,
            "_view_module": "@jupyter-widgets/base",
            "_view_module_version": "1.2.0",
            "_view_name": "LayoutView",
            "align_content": null,
            "align_items": null,
            "align_self": null,
            "border": null,
            "bottom": null,
            "display": null,
            "flex": null,
            "flex_flow": null,
            "grid_area": null,
            "grid_auto_columns": null,
            "grid_auto_flow": null,
            "grid_auto_rows": null,
            "grid_column": null,
            "grid_gap": null,
            "grid_row": null,
            "grid_template_areas": null,
            "grid_template_columns": null,
            "grid_template_rows": null,
            "height": null,
            "justify_content": null,
            "justify_items": null,
            "left": null,
            "margin": null,
            "max_height": null,
            "max_width": null,
            "min_height": null,
            "min_width": null,
            "object_fit": null,
            "object_position": null,
            "order": null,
            "overflow": null,
            "overflow_x": null,
            "overflow_y": null,
            "padding": null,
            "right": null,
            "top": null,
            "visibility": null,
            "width": null
          }
        },
        "ccfdb4c090f842feba580f504683981c": {
          "model_module": "@jupyter-widgets/base",
          "model_name": "LayoutModel",
          "model_module_version": "1.2.0",
          "state": {
            "_model_module": "@jupyter-widgets/base",
            "_model_module_version": "1.2.0",
            "_model_name": "LayoutModel",
            "_view_count": null,
            "_view_module": "@jupyter-widgets/base",
            "_view_module_version": "1.2.0",
            "_view_name": "LayoutView",
            "align_content": null,
            "align_items": null,
            "align_self": null,
            "border": null,
            "bottom": null,
            "display": null,
            "flex": null,
            "flex_flow": null,
            "grid_area": null,
            "grid_auto_columns": null,
            "grid_auto_flow": null,
            "grid_auto_rows": null,
            "grid_column": null,
            "grid_gap": null,
            "grid_row": null,
            "grid_template_areas": null,
            "grid_template_columns": null,
            "grid_template_rows": null,
            "height": null,
            "justify_content": null,
            "justify_items": null,
            "left": null,
            "margin": null,
            "max_height": null,
            "max_width": null,
            "min_height": null,
            "min_width": null,
            "object_fit": null,
            "object_position": null,
            "order": null,
            "overflow": null,
            "overflow_x": null,
            "overflow_y": null,
            "padding": null,
            "right": null,
            "top": null,
            "visibility": null,
            "width": null
          }
        },
        "968d28d6a2c64d58ad5525b68a645fa7": {
          "model_module": "@jupyter-widgets/controls",
          "model_name": "DescriptionStyleModel",
          "model_module_version": "1.5.0",
          "state": {
            "_model_module": "@jupyter-widgets/controls",
            "_model_module_version": "1.5.0",
            "_model_name": "DescriptionStyleModel",
            "_view_count": null,
            "_view_module": "@jupyter-widgets/base",
            "_view_module_version": "1.2.0",
            "_view_name": "StyleView",
            "description_width": ""
          }
        },
        "dbf329f708ec40aca14eccdc1b7afda4": {
          "model_module": "@jupyter-widgets/base",
          "model_name": "LayoutModel",
          "model_module_version": "1.2.0",
          "state": {
            "_model_module": "@jupyter-widgets/base",
            "_model_module_version": "1.2.0",
            "_model_name": "LayoutModel",
            "_view_count": null,
            "_view_module": "@jupyter-widgets/base",
            "_view_module_version": "1.2.0",
            "_view_name": "LayoutView",
            "align_content": null,
            "align_items": null,
            "align_self": null,
            "border": null,
            "bottom": null,
            "display": null,
            "flex": null,
            "flex_flow": null,
            "grid_area": null,
            "grid_auto_columns": null,
            "grid_auto_flow": null,
            "grid_auto_rows": null,
            "grid_column": null,
            "grid_gap": null,
            "grid_row": null,
            "grid_template_areas": null,
            "grid_template_columns": null,
            "grid_template_rows": null,
            "height": null,
            "justify_content": null,
            "justify_items": null,
            "left": null,
            "margin": null,
            "max_height": null,
            "max_width": null,
            "min_height": null,
            "min_width": null,
            "object_fit": null,
            "object_position": null,
            "order": null,
            "overflow": null,
            "overflow_x": null,
            "overflow_y": null,
            "padding": null,
            "right": null,
            "top": null,
            "visibility": null,
            "width": null
          }
        },
        "e218fa35b1ac446d8c4e0e9d4388b449": {
          "model_module": "@jupyter-widgets/controls",
          "model_name": "ProgressStyleModel",
          "model_module_version": "1.5.0",
          "state": {
            "_model_module": "@jupyter-widgets/controls",
            "_model_module_version": "1.5.0",
            "_model_name": "ProgressStyleModel",
            "_view_count": null,
            "_view_module": "@jupyter-widgets/base",
            "_view_module_version": "1.2.0",
            "_view_name": "StyleView",
            "bar_color": null,
            "description_width": ""
          }
        },
        "1b31aad5b9694ddf91ea9be97f751091": {
          "model_module": "@jupyter-widgets/base",
          "model_name": "LayoutModel",
          "model_module_version": "1.2.0",
          "state": {
            "_model_module": "@jupyter-widgets/base",
            "_model_module_version": "1.2.0",
            "_model_name": "LayoutModel",
            "_view_count": null,
            "_view_module": "@jupyter-widgets/base",
            "_view_module_version": "1.2.0",
            "_view_name": "LayoutView",
            "align_content": null,
            "align_items": null,
            "align_self": null,
            "border": null,
            "bottom": null,
            "display": null,
            "flex": null,
            "flex_flow": null,
            "grid_area": null,
            "grid_auto_columns": null,
            "grid_auto_flow": null,
            "grid_auto_rows": null,
            "grid_column": null,
            "grid_gap": null,
            "grid_row": null,
            "grid_template_areas": null,
            "grid_template_columns": null,
            "grid_template_rows": null,
            "height": null,
            "justify_content": null,
            "justify_items": null,
            "left": null,
            "margin": null,
            "max_height": null,
            "max_width": null,
            "min_height": null,
            "min_width": null,
            "object_fit": null,
            "object_position": null,
            "order": null,
            "overflow": null,
            "overflow_x": null,
            "overflow_y": null,
            "padding": null,
            "right": null,
            "top": null,
            "visibility": null,
            "width": null
          }
        },
        "e173872e3a3842cda77f90a676c9ae83": {
          "model_module": "@jupyter-widgets/controls",
          "model_name": "DescriptionStyleModel",
          "model_module_version": "1.5.0",
          "state": {
            "_model_module": "@jupyter-widgets/controls",
            "_model_module_version": "1.5.0",
            "_model_name": "DescriptionStyleModel",
            "_view_count": null,
            "_view_module": "@jupyter-widgets/base",
            "_view_module_version": "1.2.0",
            "_view_name": "StyleView",
            "description_width": ""
          }
        }
      }
    }
  },
  "nbformat": 4,
  "nbformat_minor": 0
}