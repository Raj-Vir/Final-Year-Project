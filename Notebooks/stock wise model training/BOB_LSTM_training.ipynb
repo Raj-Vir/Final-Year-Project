{
  "cells": [
    {
      "cell_type": "markdown",
      "source": [
        "#Stock Market Prediction LSTM only"
      ],
      "metadata": {
        "id": "tUGPyWDe0ZWk"
      }
    },
    {
      "cell_type": "code",
      "execution_count": 1,
      "metadata": {
        "colab": {
          "base_uri": "https://localhost:8080/"
        },
        "id": "NTrOI1lbTPUj",
        "outputId": "05cc5d6d-49f6-4aad-e3b7-65d176f87658"
      },
      "outputs": [
        {
          "output_type": "stream",
          "name": "stdout",
          "text": [
            "Looking in indexes: https://pypi.org/simple, https://us-python.pkg.dev/colab-wheels/public/simple/\n",
            "Collecting transformers\n",
            "  Downloading transformers-4.29.2-py3-none-any.whl (7.1 MB)\n",
            "\u001b[2K     \u001b[90m━━━━━━━━━━━━━━━━━━━━━━━━━━━━━━━━━━━━━━━━\u001b[0m \u001b[32m7.1/7.1 MB\u001b[0m \u001b[31m63.4 MB/s\u001b[0m eta \u001b[36m0:00:00\u001b[0m\n",
            "\u001b[?25hRequirement already satisfied: filelock in /usr/local/lib/python3.10/dist-packages (from transformers) (3.12.0)\n",
            "Collecting huggingface-hub<1.0,>=0.14.1 (from transformers)\n",
            "  Downloading huggingface_hub-0.15.1-py3-none-any.whl (236 kB)\n",
            "\u001b[2K     \u001b[90m━━━━━━━━━━━━━━━━━━━━━━━━━━━━━━━━━━━━━━\u001b[0m \u001b[32m236.8/236.8 kB\u001b[0m \u001b[31m26.9 MB/s\u001b[0m eta \u001b[36m0:00:00\u001b[0m\n",
            "\u001b[?25hRequirement already satisfied: numpy>=1.17 in /usr/local/lib/python3.10/dist-packages (from transformers) (1.22.4)\n",
            "Requirement already satisfied: packaging>=20.0 in /usr/local/lib/python3.10/dist-packages (from transformers) (23.1)\n",
            "Requirement already satisfied: pyyaml>=5.1 in /usr/local/lib/python3.10/dist-packages (from transformers) (6.0)\n",
            "Requirement already satisfied: regex!=2019.12.17 in /usr/local/lib/python3.10/dist-packages (from transformers) (2022.10.31)\n",
            "Requirement already satisfied: requests in /usr/local/lib/python3.10/dist-packages (from transformers) (2.27.1)\n",
            "Collecting tokenizers!=0.11.3,<0.14,>=0.11.1 (from transformers)\n",
            "  Downloading tokenizers-0.13.3-cp310-cp310-manylinux_2_17_x86_64.manylinux2014_x86_64.whl (7.8 MB)\n",
            "\u001b[2K     \u001b[90m━━━━━━━━━━━━━━━━━━━━━━━━━━━━━━━━━━━━━━━━\u001b[0m \u001b[32m7.8/7.8 MB\u001b[0m \u001b[31m95.8 MB/s\u001b[0m eta \u001b[36m0:00:00\u001b[0m\n",
            "\u001b[?25hRequirement already satisfied: tqdm>=4.27 in /usr/local/lib/python3.10/dist-packages (from transformers) (4.65.0)\n",
            "Requirement already satisfied: fsspec in /usr/local/lib/python3.10/dist-packages (from huggingface-hub<1.0,>=0.14.1->transformers) (2023.4.0)\n",
            "Requirement already satisfied: typing-extensions>=3.7.4.3 in /usr/local/lib/python3.10/dist-packages (from huggingface-hub<1.0,>=0.14.1->transformers) (4.5.0)\n",
            "Requirement already satisfied: urllib3<1.27,>=1.21.1 in /usr/local/lib/python3.10/dist-packages (from requests->transformers) (1.26.15)\n",
            "Requirement already satisfied: certifi>=2017.4.17 in /usr/local/lib/python3.10/dist-packages (from requests->transformers) (2022.12.7)\n",
            "Requirement already satisfied: charset-normalizer~=2.0.0 in /usr/local/lib/python3.10/dist-packages (from requests->transformers) (2.0.12)\n",
            "Requirement already satisfied: idna<4,>=2.5 in /usr/local/lib/python3.10/dist-packages (from requests->transformers) (3.4)\n",
            "Installing collected packages: tokenizers, huggingface-hub, transformers\n",
            "Successfully installed huggingface-hub-0.15.1 tokenizers-0.13.3 transformers-4.29.2\n",
            "Looking in indexes: https://pypi.org/simple, https://us-python.pkg.dev/colab-wheels/public/simple/\n",
            "Collecting pynytimes\n",
            "  Downloading pynytimes-0.10.0-py3-none-any.whl (20 kB)\n",
            "Requirement already satisfied: requests<3.0.0,>=2.10.0 in /usr/local/lib/python3.10/dist-packages (from pynytimes) (2.27.1)\n",
            "Requirement already satisfied: urllib3 in /usr/local/lib/python3.10/dist-packages (from pynytimes) (1.26.15)\n",
            "Requirement already satisfied: certifi>=2017.4.17 in /usr/local/lib/python3.10/dist-packages (from requests<3.0.0,>=2.10.0->pynytimes) (2022.12.7)\n",
            "Requirement already satisfied: charset-normalizer~=2.0.0 in /usr/local/lib/python3.10/dist-packages (from requests<3.0.0,>=2.10.0->pynytimes) (2.0.12)\n",
            "Requirement already satisfied: idna<4,>=2.5 in /usr/local/lib/python3.10/dist-packages (from requests<3.0.0,>=2.10.0->pynytimes) (3.4)\n",
            "Installing collected packages: pynytimes\n",
            "Successfully installed pynytimes-0.10.0\n",
            "Looking in indexes: https://pypi.org/simple, https://us-python.pkg.dev/colab-wheels/public/simple/\n",
            "Collecting xformers\n",
            "  Downloading xformers-0.0.20-cp310-cp310-manylinux2014_x86_64.whl (109.1 MB)\n",
            "\u001b[2K     \u001b[90m━━━━━━━━━━━━━━━━━━━━━━━━━━━━━━━━━━━━━━━\u001b[0m \u001b[32m109.1/109.1 MB\u001b[0m \u001b[31m7.2 MB/s\u001b[0m eta \u001b[36m0:00:00\u001b[0m\n",
            "\u001b[?25hRequirement already satisfied: numpy in /usr/local/lib/python3.10/dist-packages (from xformers) (1.22.4)\n",
            "Collecting pyre-extensions==0.0.29 (from xformers)\n",
            "  Downloading pyre_extensions-0.0.29-py3-none-any.whl (12 kB)\n",
            "Requirement already satisfied: torch==2.0.1 in /usr/local/lib/python3.10/dist-packages (from xformers) (2.0.1+cu118)\n",
            "Collecting typing-inspect (from pyre-extensions==0.0.29->xformers)\n",
            "  Downloading typing_inspect-0.9.0-py3-none-any.whl (8.8 kB)\n",
            "Requirement already satisfied: typing-extensions in /usr/local/lib/python3.10/dist-packages (from pyre-extensions==0.0.29->xformers) (4.5.0)\n",
            "Requirement already satisfied: filelock in /usr/local/lib/python3.10/dist-packages (from torch==2.0.1->xformers) (3.12.0)\n",
            "Requirement already satisfied: sympy in /usr/local/lib/python3.10/dist-packages (from torch==2.0.1->xformers) (1.11.1)\n",
            "Requirement already satisfied: networkx in /usr/local/lib/python3.10/dist-packages (from torch==2.0.1->xformers) (3.1)\n",
            "Requirement already satisfied: jinja2 in /usr/local/lib/python3.10/dist-packages (from torch==2.0.1->xformers) (3.1.2)\n",
            "Requirement already satisfied: triton==2.0.0 in /usr/local/lib/python3.10/dist-packages (from torch==2.0.1->xformers) (2.0.0)\n",
            "Requirement already satisfied: cmake in /usr/local/lib/python3.10/dist-packages (from triton==2.0.0->torch==2.0.1->xformers) (3.25.2)\n",
            "Requirement already satisfied: lit in /usr/local/lib/python3.10/dist-packages (from triton==2.0.0->torch==2.0.1->xformers) (16.0.5)\n",
            "Requirement already satisfied: MarkupSafe>=2.0 in /usr/local/lib/python3.10/dist-packages (from jinja2->torch==2.0.1->xformers) (2.1.2)\n",
            "Requirement already satisfied: mpmath>=0.19 in /usr/local/lib/python3.10/dist-packages (from sympy->torch==2.0.1->xformers) (1.3.0)\n",
            "Collecting mypy-extensions>=0.3.0 (from typing-inspect->pyre-extensions==0.0.29->xformers)\n",
            "  Downloading mypy_extensions-1.0.0-py3-none-any.whl (4.7 kB)\n",
            "Installing collected packages: mypy-extensions, typing-inspect, pyre-extensions, xformers\n",
            "Successfully installed mypy-extensions-1.0.0 pyre-extensions-0.0.29 typing-inspect-0.9.0 xformers-0.0.20\n"
          ]
        }
      ],
      "source": [
        "!pip install transformers\n",
        "!pip install pynytimes\n",
        "!pip install xformers"
      ]
    },
    {
      "cell_type": "code",
      "source": [
        "from google.colab import drive\n",
        "drive.mount('/content/drive')"
      ],
      "metadata": {
        "colab": {
          "base_uri": "https://localhost:8080/"
        },
        "id": "_72dL3QY3MJ9",
        "outputId": "eda1082f-b561-4cac-d044-58fd9c1d48a2"
      },
      "execution_count": null,
      "outputs": [
        {
          "output_type": "stream",
          "name": "stdout",
          "text": [
            "Mounted at /content/drive\n"
          ]
        }
      ]
    },
    {
      "cell_type": "code",
      "execution_count": 2,
      "metadata": {
        "id": "Syf4H4acTOaT"
      },
      "outputs": [],
      "source": [
        "from pynytimes import NYTAPI\n",
        "import datetime\n",
        "import pandas as pd\n",
        "import numpy as np\n",
        "import matplotlib.pyplot as plt"
      ]
    },
    {
      "cell_type": "code",
      "execution_count": null,
      "metadata": {
        "id": "S-2SY0loppjB"
      },
      "outputs": [],
      "source": [
        "def get_news(year, month, day):\n",
        "    \"\"\"\n",
        "    get top 10 most relevent finance news headings on each day from NY times\n",
        "    \"\"\"\n",
        "    # API call to New York Timess with the key below\n",
        "    nyt = NYTAPI(\"GM4G4Ayt0m1ME6g3ulsBfYRKDx9bRj80\", parse_dates=True)\n",
        "    \n",
        "    list = []\n",
        "    articles = nyt.article_search(\n",
        "            results = 10,\n",
        "            dates = {\n",
        "                \"begin\": datetime.datetime(year, month, day),\n",
        "                \"end\": datetime.datetime(year, month, day)\n",
        "            },\n",
        "            options = {\n",
        "                \"sort\": \"relevance\",\n",
        "                \"news_desk\": [\n",
        "                    \"Business\", \"Business Day\", \"Entrepreneurs\", \"Financial\", \"Technology\"\n",
        "                ],\n",
        "                \"section_name\" : [\n",
        "                    \"Business\", \"Business Day\", \"Technology\"\n",
        "                ]\n",
        "            }\n",
        "        )\n",
        "    for i in range(len(articles)):\n",
        "        list.append(articles[i]['abstract'].replace(',', \"\"))\n",
        "    return list\n",
        "\n",
        "df = pd.DataFrame()"
      ]
    },
    {
      "cell_type": "code",
      "execution_count": null,
      "metadata": {
        "id": "5l1XgBUwp5Hu"
      },
      "outputs": [],
      "source": [
        "def generate_news_file():\n",
        "    \"\"\"\n",
        "    store news headings everyday of in csv\n",
        "    \"\"\"\n",
        "    start = '2021-01-01'\n",
        "    end = '2022-01-01'\n",
        "    mydates = pd.date_range(start, end)\n",
        "    dates = []\n",
        "    for i in range(len(mydates)):\n",
        "        dates.append(mydates[i].strftime(\"%Y-%m-%d\"))\n",
        "    matrix = np.zeros((len(dates) + 1, 11), dtype=object)  \n",
        "    matrix[0, 0] = \"Date\"\n",
        "\n",
        "    for i in range(10):\n",
        "        matrix[0, i + 1] = f\"News {i + 1}\"\n",
        "    for i in range(len(dates)):\n",
        "        matrix[i + 1, 0] = dates[i]\n",
        "        y, m, d = dates[i].split(\"-\")\n",
        "        news_list = get_news(int(y), int(m), int(d))\n",
        "        for j in range(len(news_list)):\n",
        "            matrix[i + 1, j + 1] = news_list[j]\n",
        "    df = pd.DataFrame(matrix)\n",
        "    df.to_csv(\"news.csv\", index = False)\n",
        "\n",
        "\n",
        "generate_news_file()"
      ]
    },
    {
      "cell_type": "markdown",
      "metadata": {
        "id": "d27EANVdqSql"
      },
      "source": [
        "##Downloading the Stock data from Yahoo finance"
      ]
    },
    {
      "cell_type": "code",
      "execution_count": 3,
      "metadata": {
        "id": "G_yewvmzp8ug"
      },
      "outputs": [],
      "source": [
        "def download_stock_data(ticker, start, end):\n",
        "    \"\"\"\n",
        "    download stock price data from Yahoo Finance\n",
        "    \"\"\"\n",
        "    import yfinance as yf\n",
        "    stock_data = yf.download(ticker, start, end)\n",
        "    df = pd.DataFrame(stock_data)\n",
        "    df.to_csv(\"stock_data.csv\")"
      ]
    },
    {
      "cell_type": "code",
      "execution_count": 4,
      "metadata": {
        "colab": {
          "base_uri": "https://localhost:8080/"
        },
        "id": "4trboEORqdlf",
        "outputId": "1dda7189-3599-4501-f2a7-b5de92989ec4"
      },
      "outputs": [
        {
          "output_type": "stream",
          "name": "stdout",
          "text": [
            "\r[*********************100%***********************]  1 of 1 completed\n"
          ]
        }
      ],
      "source": [
        "# Downloading the stock data from yahoo finance \n",
        "download_stock_data(\"BANKBARODA.NS\", \"2016-06-06\", \"2021-06-04\")"
      ]
    },
    {
      "cell_type": "markdown",
      "metadata": {
        "id": "Gwi6KBkLvovU"
      },
      "source": [
        "##Merging the data and news together"
      ]
    },
    {
      "cell_type": "code",
      "execution_count": null,
      "metadata": {
        "colab": {
          "base_uri": "https://localhost:8080/"
        },
        "id": "7rgl5Zq-Bfhb",
        "outputId": "85c3055e-adb9-4020-c56d-743524fdda68"
      },
      "outputs": [
        {
          "output_type": "stream",
          "name": "stderr",
          "text": [
            "<ipython-input-12-0cf38790f7fc>:6: SettingWithCopyWarning: \n",
            "A value is trying to be set on a copy of a slice from a DataFrame\n",
            "\n",
            "See the caveats in the documentation: https://pandas.pydata.org/pandas-docs/stable/user_guide/indexing.html#returning-a-view-versus-a-copy\n",
            "  stock_df['Date'][i] = date\n"
          ]
        }
      ],
      "source": [
        "news_df = pd.read_csv(\"/content/drive/MyDrive/Stock data/news.csv\")\n",
        "stock_df = pd.read_csv(\"/content/drive/MyDrive/Stock data/stock_price.csv\")\n",
        "\n",
        "for i in range(len(stock_df)):\n",
        "    date = stock_df['Date'][i][:10]\n",
        "    stock_df['Date'][i] = date\n",
        "\n",
        "news_df = news_df[news_df['Date'].isin(stock_df['Date'].tolist())]\n",
        "\n",
        "news_df.to_csv(\"news_data.csv\", index=False)"
      ]
    },
    {
      "cell_type": "markdown",
      "source": [
        "##Training the model"
      ],
      "metadata": {
        "id": "r7bG-fJeGJrJ"
      }
    },
    {
      "cell_type": "code",
      "execution_count": 5,
      "metadata": {
        "id": "tH4Gc1zO0oyt"
      },
      "outputs": [],
      "source": [
        "from sklearn.preprocessing import MinMaxScaler\n",
        "from sklearn.metrics import mean_absolute_error\n",
        "from sklearn.metrics import mean_absolute_percentage_error\n",
        "import tensorflow as tf\n",
        "tf.compat.v1.enable_eager_execution()"
      ]
    },
    {
      "cell_type": "code",
      "execution_count": 6,
      "metadata": {
        "id": "Y1S8R_j30otQ"
      },
      "outputs": [],
      "source": [
        "# hyperparameters\n",
        "split = (0.85);\n",
        "sequence_length = 30;\n",
        "epochs = 30\n",
        "learning_rate = 0.02"
      ]
    },
    {
      "cell_type": "code",
      "execution_count": 8,
      "metadata": {
        "id": "zlpi4PsKKb0v"
      },
      "outputs": [],
      "source": [
        "# loading stock price data\n",
        "stock_data = pd.read_csv(\"/content/BANKBARODA_5Y.csv\")\n",
        "column = ['Close']"
      ]
    },
    {
      "cell_type": "code",
      "execution_count": 9,
      "metadata": {
        "id": "HDAMM_SbKepS"
      },
      "outputs": [],
      "source": [
        "len_stock_data = stock_data.shape[0]"
      ]
    },
    {
      "cell_type": "code",
      "execution_count": 10,
      "metadata": {
        "id": "zNUUrKEzKgbW"
      },
      "outputs": [],
      "source": [
        "# splitting data to train and test\n",
        "train_examples = int(len_stock_data * split)\n",
        "train = stock_data.get(column).values[:train_examples]\n",
        "test = stock_data.get(column).values[train_examples:]\n",
        "len_train = train.shape[0]\n",
        "len_test = test.shape[0]"
      ]
    },
    {
      "cell_type": "code",
      "execution_count": 11,
      "metadata": {
        "id": "RPnY8ii4KiEj"
      },
      "outputs": [],
      "source": [
        "# normalizing data\n",
        "scaler = MinMaxScaler()\n",
        "train, test = scaler.fit_transform(train), scaler.fit_transform(test)"
      ]
    },
    {
      "cell_type": "code",
      "execution_count": 12,
      "metadata": {
        "id": "dZlIlmJHKkU6"
      },
      "outputs": [],
      "source": [
        "# splitting training data to x and y\n",
        "X_train = []\n",
        "for i in range(len_train - sequence_length):\n",
        "    X_train.append(train[i : i + sequence_length])\n",
        "X_train = np.array(X_train).astype(float)\n",
        "y_train = np.array(train[sequence_length:]).astype(float)\n",
        "\n",
        "# splitting testing data to x and y\n",
        "X_test = []\n",
        "for i in range(len_test - sequence_length):\n",
        "    X_test.append(test[i : i + sequence_length])\n",
        "X_test = np.array(X_test).astype(float)\n",
        "y_test = np.array(test[sequence_length:]).astype(float)"
      ]
    },
    {
      "cell_type": "code",
      "source": [
        "shape = (X_train.shape[1], 1)\n",
        "print(shape)"
      ],
      "metadata": {
        "colab": {
          "base_uri": "https://localhost:8080/"
        },
        "id": "nmPS6gTr2oTJ",
        "outputId": "46887395-8db1-4963-b4f5-0b1606cf4f58"
      },
      "execution_count": 13,
      "outputs": [
        {
          "output_type": "stream",
          "name": "stdout",
          "text": [
            "(30, 1)\n"
          ]
        }
      ]
    },
    {
      "cell_type": "code",
      "execution_count": 15,
      "metadata": {
        "id": "jsRxcWbgKm8-"
      },
      "outputs": [],
      "source": [
        "def model_create():\n",
        "    tf.random.set_seed(1234)\n",
        "    model = tf.keras.models.Sequential(\n",
        "        [\n",
        "            tf.keras.Input(shape = (X_train.shape[1], 1)),\n",
        "            tf.keras.layers.LSTM(units = 50, activation = \"tanh\", return_sequences = True),\n",
        "            tf.keras.layers.Dropout(0.15),\n",
        "            tf.keras.layers.LSTM(units = 30, activation = \"tanh\", return_sequences = True),\n",
        "            tf.keras.layers.Dropout(0.05),\n",
        "            tf.keras.layers.LSTM(units = 20, activation = \"tanh\", return_sequences = False),\n",
        "            tf.keras.layers.Dropout(0.01),\n",
        "            tf.keras.layers.Dense(units = 1, activation = \"linear\")\n",
        "        ]\n",
        "    )\n",
        "    model.compile(\n",
        "        loss = tf.keras.losses.mean_squared_error,\n",
        "        optimizer = tf.keras.optimizers.Adam(learning_rate = learning_rate)\n",
        "    )\n",
        "\n",
        "\n",
        "    model.fit(\n",
        "        X_train, y_train,\n",
        "        epochs = epochs\n",
        "    )\n",
        "    model.save(\"BANKBARODA_model.h5\")\n",
        "    return model"
      ]
    },
    {
      "cell_type": "code",
      "execution_count": 16,
      "metadata": {
        "id": "nPdDE24UKqxg"
      },
      "outputs": [],
      "source": [
        "# inverting normaliztion\n",
        "y_test = scaler.inverse_transform(y_test)"
      ]
    },
    {
      "cell_type": "code",
      "execution_count": 17,
      "metadata": {
        "id": "G5cvZsSiK0Ut"
      },
      "outputs": [],
      "source": [
        "def predict(model):\n",
        "    predictions = model.predict(X_test)\n",
        "    predictions = scaler.inverse_transform(predictions.reshape(-1,1)).reshape(-1,1)\n",
        "    return predictions"
      ]
    },
    {
      "cell_type": "code",
      "execution_count": 18,
      "metadata": {
        "id": "DAZ9RWQdK2so"
      },
      "outputs": [],
      "source": [
        "# evaluation\n",
        "def evaluate(predictions):\n",
        "    mae = mean_absolute_error(predictions, y_test)\n",
        "    mape = mean_absolute_percentage_error(predictions, y_test)\n",
        "    return mae, mape, (1 - mape)"
      ]
    },
    {
      "cell_type": "code",
      "execution_count": 19,
      "metadata": {
        "id": "gWTEPxO1K4WK"
      },
      "outputs": [],
      "source": [
        "def run_model(n):\n",
        "    total_mae = total_mape = total_acc = 0\n",
        "    for i in range(n):\n",
        "        model = model_create()\n",
        "        predictions = predict(model)\n",
        "        mae, mape, acc = evaluate(predictions)\n",
        "        total_mae += mae\n",
        "        total_mape += mape \n",
        "        total_acc += acc \n",
        "    return (total_mae / n), (total_mape / n), (total_acc / n),predictions.tolist()"
      ]
    },
    {
      "cell_type": "code",
      "execution_count": 20,
      "metadata": {
        "colab": {
          "base_uri": "https://localhost:8080/"
        },
        "id": "cer-ksWgc-9e",
        "outputId": "c26f58d4-3e99-47e6-a49a-6d9238acc467"
      },
      "outputs": [
        {
          "output_type": "stream",
          "name": "stdout",
          "text": [
            "Epoch 1/30\n",
            "32/32 [==============================] - 7s 40ms/step - loss: 0.0595\n",
            "Epoch 2/30\n",
            "32/32 [==============================] - 1s 40ms/step - loss: 0.0036\n",
            "Epoch 3/30\n",
            "32/32 [==============================] - 1s 43ms/step - loss: 0.0032\n",
            "Epoch 4/30\n",
            "32/32 [==============================] - 2s 68ms/step - loss: 0.0031\n",
            "Epoch 5/30\n",
            "32/32 [==============================] - 2s 66ms/step - loss: 0.0022\n",
            "Epoch 6/30\n",
            "32/32 [==============================] - 1s 42ms/step - loss: 0.0028\n",
            "Epoch 7/30\n",
            "32/32 [==============================] - 1s 41ms/step - loss: 0.0023\n",
            "Epoch 8/30\n",
            "32/32 [==============================] - 1s 40ms/step - loss: 0.0018\n",
            "Epoch 9/30\n",
            "32/32 [==============================] - 1s 40ms/step - loss: 0.0018\n",
            "Epoch 10/30\n",
            "32/32 [==============================] - 1s 40ms/step - loss: 0.0019\n",
            "Epoch 11/30\n",
            "32/32 [==============================] - 1s 41ms/step - loss: 0.0022\n",
            "Epoch 12/30\n",
            "32/32 [==============================] - 1s 40ms/step - loss: 0.0019\n",
            "Epoch 13/30\n",
            "32/32 [==============================] - 2s 48ms/step - loss: 0.0017\n",
            "Epoch 14/30\n",
            "32/32 [==============================] - 2s 68ms/step - loss: 0.0019\n",
            "Epoch 15/30\n",
            "32/32 [==============================] - 2s 63ms/step - loss: 0.0016\n",
            "Epoch 16/30\n",
            "32/32 [==============================] - 1s 41ms/step - loss: 0.0014\n",
            "Epoch 17/30\n",
            "32/32 [==============================] - 1s 41ms/step - loss: 0.0014\n",
            "Epoch 18/30\n",
            "32/32 [==============================] - 1s 41ms/step - loss: 0.0012\n",
            "Epoch 19/30\n",
            "32/32 [==============================] - 1s 40ms/step - loss: 0.0013\n",
            "Epoch 20/30\n",
            "32/32 [==============================] - 1s 40ms/step - loss: 0.0016\n",
            "Epoch 21/30\n",
            "32/32 [==============================] - 1s 42ms/step - loss: 0.0015\n",
            "Epoch 22/30\n",
            "32/32 [==============================] - 1s 40ms/step - loss: 0.0014\n",
            "Epoch 23/30\n",
            "32/32 [==============================] - 2s 57ms/step - loss: 0.0012\n",
            "Epoch 24/30\n",
            "32/32 [==============================] - 2s 65ms/step - loss: 0.0012\n",
            "Epoch 25/30\n",
            "32/32 [==============================] - 3s 84ms/step - loss: 0.0012\n",
            "Epoch 26/30\n",
            "32/32 [==============================] - 1s 42ms/step - loss: 0.0011\n",
            "Epoch 27/30\n",
            "32/32 [==============================] - 1s 41ms/step - loss: 0.0012\n",
            "Epoch 28/30\n",
            "32/32 [==============================] - 1s 41ms/step - loss: 0.0013\n",
            "Epoch 29/30\n",
            "32/32 [==============================] - 1s 41ms/step - loss: 0.0014\n",
            "Epoch 30/30\n",
            "32/32 [==============================] - 1s 41ms/step - loss: 0.0013\n",
            "5/5 [==============================] - 1s 11ms/step\n"
          ]
        }
      ],
      "source": [
        "mae, mape, acc, preds = run_model(1)"
      ]
    },
    {
      "cell_type": "code",
      "execution_count": 21,
      "metadata": {
        "colab": {
          "base_uri": "https://localhost:8080/"
        },
        "id": "ncYI4sYbK-gy",
        "outputId": "02dfa334-6fd4-4488-a6ca-fd864d252755"
      },
      "outputs": [
        {
          "output_type": "stream",
          "name": "stdout",
          "text": [
            "Mean Absolute Error = 2.0742558879237016\n",
            "Mean Absolute Percentage Error = 0.03121224431065897%\n",
            "Accuracy = 0.9687877556893411\n"
          ]
        }
      ],
      "source": [
        "print(f\"Mean Absolute Error = {mae}\")\n",
        "print(f\"Mean Absolute Percentage Error = {mape}%\")\n",
        "print(f\"Accuracy = {acc}\")"
      ]
    },
    {
      "cell_type": "code",
      "execution_count": 22,
      "metadata": {
        "colab": {
          "base_uri": "https://localhost:8080/",
          "height": 718
        },
        "id": "S38MQyR-RVfD",
        "outputId": "57a46f65-bcfc-4c7f-f431-fd669869a026"
      },
      "outputs": [
        {
          "output_type": "display_data",
          "data": {
            "text/plain": [
              "<Figure size 1200x800 with 1 Axes>"
            ],
            "image/png": "[encoded data removed]"
          },
          "metadata": {}
        }
      ],
      "source": [
        "real = plt.plot(y_test, label='Actual Price')\n",
        "pred = plt.plot(preds, label='Predicted Price')\n",
        "\n",
        "plt.gcf().set_size_inches(12, 8, forward=True)\n",
        "plt.title('Plot of real price and predicted price against number of days')\n",
        "plt.xlabel('Number of days')\n",
        "plt.ylabel('Close Price($)')\n",
        "\n",
        "plt.legend(['Actual Price', 'Predicted Price'])\n",
        "plt.show()    "
      ]
    }
  ],
  "metadata": {
    "anaconda-cloud": {},
    "colab": {
      "provenance": []
    },
    "kernelspec": {
      "display_name": "Python [TensorFlow]",
      "language": "python",
      "name": "Python [TensorFlow]"
    },
    "language_info": {
      "codemirror_mode": {
        "name": "ipython",
        "version": 3
      },
      "file_extension": ".py",
      "mimetype": "text/x-python",
      "name": "python",
      "nbconvert_exporter": "python",
      "pygments_lexer": "ipython3",
      "version": "3.6.3"
    }
  },
  "nbformat": 4,
  "nbformat_minor": 0
}